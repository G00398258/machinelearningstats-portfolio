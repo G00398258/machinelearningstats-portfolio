{
 "cells": [
  {
   "cell_type": "markdown",
   "id": "2ece8f76-cdd2-45a8-832c-c26194957ccb",
   "metadata": {},
   "source": [
    "# Keras: Time Series Anomaly\n",
    "***"
   ]
  },
  {
   "cell_type": "markdown",
   "id": "3f78abd5-bffc-45af-bcee-dae19a82373e",
   "metadata": {},
   "source": [
    "This Jupyter notebook will contain my submission for the project aspect of the assessment for the Machine Learning & Statistics module (Winter 2022).  \n",
    "<br>  \n",
    "The focus of this project will be time-series anomaly detection using Keras. In this notebook, I have recreated and broken down the example code from the [Keras website](https://keras.io/examples/timeseries/timeseries_anomaly_detection/) (with minor changes suggested by the lecturer) into four sections:  \n",
    "1. Data  \n",
    "2. Pre-Processing  \n",
    "3. Neural Network  \n",
    "4. Evaluation    "
   ]
  },
  {
   "cell_type": "markdown",
   "id": "7f69477d-d3ab-4924-b292-a918e236212b",
   "metadata": {},
   "source": [
    "Under each section, I will give an overview of what is happening in the code and what the user can expect to see, and aim to clearly explain each Keras function used.  \n",
    "<br>  \n",
    "Finally, I suggest some improvements that could be made to the analysis. The notebook concludes with a list of references referred to and consulted in the completing of this project."
   ]
  },
  {
   "cell_type": "markdown",
   "id": "26c29031-7fb8-4439-8041-beb806988496",
   "metadata": {},
   "source": [
    "<br>"
   ]
  },
  {
   "cell_type": "markdown",
   "id": "2c8832e3-ff7d-469d-bf74-9e9c26262c7f",
   "metadata": {},
   "source": [
    "# From Ian's Notebook\n",
    "\n",
    "***\n",
    "\n",
    "https://keras.io/examples/timeseries/timeseries_anomaly_detection/"
   ]
  },
  {
   "cell_type": "markdown",
   "id": "9fb682d0-de64-4afc-b656-854a9b004eb6",
   "metadata": {},
   "source": [
    "## Evaluation\n",
    "***"
   ]
  },
  {
   "cell_type": "code",
   "execution_count": 1,
   "id": "e0ba0902-0576-4608-a726-a1c3b4b8e1f0",
   "metadata": {},
   "outputs": [],
   "source": [
    "# Numerical arrays\n",
    "import numpy as np\n",
    "\n",
    "# Spreadsheet-like Data Frames\n",
    "import pandas as pd\n",
    "\n",
    "# Neural networks\n",
    "import tensorflow.keras as keras\n",
    "\n",
    "# Plotting\n",
    "import matplotlib.pyplot as plt"
   ]
  },
  {
   "cell_type": "markdown",
   "id": "77f045b6-d1a6-40f5-ac64-120eef018491",
   "metadata": {},
   "source": [
    "<br>"
   ]
  },
  {
   "cell_type": "markdown",
   "id": "427c8e51-b0f9-4ecf-9281-09a2abc97623",
   "metadata": {},
   "source": [
    "## 1. Data\n",
    "***\n",
    "\n",
    "https://www.kaggle.com/datasets/boltzmannbrain/nab\n",
    "\n",
    "https://github.com/numenta/NAB"
   ]
  },
  {
   "cell_type": "markdown",
   "id": "55829dcf-a72e-4642-88ae-a35cfea3a495",
   "metadata": {},
   "source": [
    "The data used in this project is artificial data taken from the Numenta Anomaly Benchmark (NAB) dataset. Introduced in 2015, NAB is an open source framework comprised of labeled data files which uses a common scoring system \"_to compare and evaluate different anomaly detection algorithms for detecting anomalies in streaming data_\" [fintelics]."
   ]
  },
  {
   "cell_type": "markdown",
   "id": "21ff1237-45ff-4502-8614-c332c612eee4",
   "metadata": {},
   "source": [
    "In this section, we will gather the data for the project, import the data into dataframes, check that the data looks OK and do an inital plot of the data so we can take a look at what we're working with."
   ]
  },
  {
   "cell_type": "code",
   "execution_count": 2,
   "id": "849b0151-072d-4a18-abf8-7d29b0ff348e",
   "metadata": {},
   "outputs": [],
   "source": [
    "# Root of URLs\n",
    "root_url = 'https://raw.githubusercontent.com/numenta/NAB/master/data/'\n",
    "\n",
    "# Data file without anomaly\n",
    "no_anomaly_url = root_url + 'artificialNoAnomaly/art_daily_small_noise.csv'\n",
    "\n",
    "# Data file with anomaly\n",
    "with_anomaly_url = root_url + 'artificialWithAnomaly/art_daily_jumpsup.csv'"
   ]
  },
  {
   "cell_type": "code",
   "execution_count": 3,
   "id": "bef2ef2c-9d9e-49d0-ae7b-0ba3b156ad44",
   "metadata": {},
   "outputs": [
    {
     "data": {
      "text/plain": [
       "'https://raw.githubusercontent.com/numenta/NAB/master/data/artificialNoAnomaly/art_daily_small_noise.csv'"
      ]
     },
     "execution_count": 3,
     "metadata": {},
     "output_type": "execute_result"
    }
   ],
   "source": [
    "# Checking the no anomaly URL looks OK\n",
    "no_anomaly_url"
   ]
  },
  {
   "cell_type": "code",
   "execution_count": 4,
   "id": "62a40518-51c9-4266-aa76-f2b3d76becb1",
   "metadata": {},
   "outputs": [
    {
     "data": {
      "text/plain": [
       "'https://raw.githubusercontent.com/numenta/NAB/master/data/artificialWithAnomaly/art_daily_jumpsup.csv'"
      ]
     },
     "execution_count": 4,
     "metadata": {},
     "output_type": "execute_result"
    }
   ],
   "source": [
    "# Checking the with anomaly URL looks OK\n",
    "with_anomaly_url"
   ]
  },
  {
   "cell_type": "code",
   "execution_count": 5,
   "id": "2829a112-226c-4986-8199-03b56af2e587",
   "metadata": {},
   "outputs": [],
   "source": [
    "# Reading the no anomaly data into a data frame called small noise\n",
    "df_small_noise = pd.read_csv(no_anomaly_url, parse_dates=True, index_col=\"timestamp\")"
   ]
  },
  {
   "cell_type": "code",
   "execution_count": 6,
   "id": "a4b41bea-fc6b-40d4-83b1-92b035c8d9de",
   "metadata": {},
   "outputs": [
    {
     "data": {
      "text/html": [
       "<div>\n",
       "<style scoped>\n",
       "    .dataframe tbody tr th:only-of-type {\n",
       "        vertical-align: middle;\n",
       "    }\n",
       "\n",
       "    .dataframe tbody tr th {\n",
       "        vertical-align: top;\n",
       "    }\n",
       "\n",
       "    .dataframe thead th {\n",
       "        text-align: right;\n",
       "    }\n",
       "</style>\n",
       "<table border=\"1\" class=\"dataframe\">\n",
       "  <thead>\n",
       "    <tr style=\"text-align: right;\">\n",
       "      <th></th>\n",
       "      <th>value</th>\n",
       "    </tr>\n",
       "    <tr>\n",
       "      <th>timestamp</th>\n",
       "      <th></th>\n",
       "    </tr>\n",
       "  </thead>\n",
       "  <tbody>\n",
       "    <tr>\n",
       "      <th>2014-04-01 00:00:00</th>\n",
       "      <td>18.324919</td>\n",
       "    </tr>\n",
       "    <tr>\n",
       "      <th>2014-04-01 00:05:00</th>\n",
       "      <td>21.970327</td>\n",
       "    </tr>\n",
       "    <tr>\n",
       "      <th>2014-04-01 00:10:00</th>\n",
       "      <td>18.624806</td>\n",
       "    </tr>\n",
       "    <tr>\n",
       "      <th>2014-04-01 00:15:00</th>\n",
       "      <td>21.953684</td>\n",
       "    </tr>\n",
       "    <tr>\n",
       "      <th>2014-04-01 00:20:00</th>\n",
       "      <td>21.909120</td>\n",
       "    </tr>\n",
       "  </tbody>\n",
       "</table>\n",
       "</div>"
      ],
      "text/plain": [
       "                         value\n",
       "timestamp                     \n",
       "2014-04-01 00:00:00  18.324919\n",
       "2014-04-01 00:05:00  21.970327\n",
       "2014-04-01 00:10:00  18.624806\n",
       "2014-04-01 00:15:00  21.953684\n",
       "2014-04-01 00:20:00  21.909120"
      ]
     },
     "execution_count": 6,
     "metadata": {},
     "output_type": "execute_result"
    }
   ],
   "source": [
    "# Taking a look at the top 5 values in the data frame\n",
    "df_small_noise.head()"
   ]
  },
  {
   "cell_type": "code",
   "execution_count": 7,
   "id": "53f4fbee-dce3-4a30-ab97-0b9daf519ff2",
   "metadata": {},
   "outputs": [
    {
     "data": {
      "text/html": [
       "<div>\n",
       "<style scoped>\n",
       "    .dataframe tbody tr th:only-of-type {\n",
       "        vertical-align: middle;\n",
       "    }\n",
       "\n",
       "    .dataframe tbody tr th {\n",
       "        vertical-align: top;\n",
       "    }\n",
       "\n",
       "    .dataframe thead th {\n",
       "        text-align: right;\n",
       "    }\n",
       "</style>\n",
       "<table border=\"1\" class=\"dataframe\">\n",
       "  <thead>\n",
       "    <tr style=\"text-align: right;\">\n",
       "      <th></th>\n",
       "      <th>value</th>\n",
       "    </tr>\n",
       "  </thead>\n",
       "  <tbody>\n",
       "    <tr>\n",
       "      <th>count</th>\n",
       "      <td>4032.000000</td>\n",
       "    </tr>\n",
       "    <tr>\n",
       "      <th>mean</th>\n",
       "      <td>42.438353</td>\n",
       "    </tr>\n",
       "    <tr>\n",
       "      <th>std</th>\n",
       "      <td>28.077122</td>\n",
       "    </tr>\n",
       "    <tr>\n",
       "      <th>min</th>\n",
       "      <td>18.000964</td>\n",
       "    </tr>\n",
       "    <tr>\n",
       "      <th>25%</th>\n",
       "      <td>19.841390</td>\n",
       "    </tr>\n",
       "    <tr>\n",
       "      <th>50%</th>\n",
       "      <td>21.608487</td>\n",
       "    </tr>\n",
       "    <tr>\n",
       "      <th>75%</th>\n",
       "      <td>75.450282</td>\n",
       "    </tr>\n",
       "    <tr>\n",
       "      <th>max</th>\n",
       "      <td>87.976128</td>\n",
       "    </tr>\n",
       "  </tbody>\n",
       "</table>\n",
       "</div>"
      ],
      "text/plain": [
       "             value\n",
       "count  4032.000000\n",
       "mean     42.438353\n",
       "std      28.077122\n",
       "min      18.000964\n",
       "25%      19.841390\n",
       "50%      21.608487\n",
       "75%      75.450282\n",
       "max      87.976128"
      ]
     },
     "execution_count": 7,
     "metadata": {},
     "output_type": "execute_result"
    }
   ],
   "source": [
    "# Using describe to check how many lines are in the data & see some basic stats\n",
    "df_small_noise.describe()"
   ]
  },
  {
   "cell_type": "code",
   "execution_count": 8,
   "id": "fa9d5253-e607-4af5-b28d-283302fc64eb",
   "metadata": {},
   "outputs": [
    {
     "data": {
      "text/plain": [
       "18.3249185392"
      ]
     },
     "execution_count": 8,
     "metadata": {},
     "output_type": "execute_result"
    }
   ],
   "source": [
    "# Taking a look at the first value in the data frame\n",
    "#df_small_noise.iloc[0]\n",
    "#df_small_noise.iloc[0].values[0]\n",
    "df_small_noise.iloc[0]['value']"
   ]
  },
  {
   "cell_type": "code",
   "execution_count": 9,
   "id": "a64cc33f-345c-4221-814d-46c8c50f844e",
   "metadata": {},
   "outputs": [
    {
     "data": {
      "text/plain": [
       "(4032, 1)"
      ]
     },
     "execution_count": 9,
     "metadata": {},
     "output_type": "execute_result"
    }
   ],
   "source": [
    "# Use shape method to see how many values are in the data frame\n",
    "df_small_noise.shape"
   ]
  },
  {
   "cell_type": "code",
   "execution_count": 10,
   "id": "fd187c98-a1aa-4521-bb69-07d302405795",
   "metadata": {},
   "outputs": [
    {
     "data": {
      "image/png": "[encoded data removed]",
      "text/plain": [
       "<Figure size 720x432 with 1 Axes>"
      ]
     },
     "metadata": {
      "needs_background": "light"
     },
     "output_type": "display_data"
    }
   ],
   "source": [
    "# Creating a subplot\n",
    "fig, ax = plt.subplots(figsize=(10,6))\n",
    "\n",
    "# Use pandas to plot the data frame\n",
    "df_small_noise.plot(legend=False, ax=ax);"
   ]
  },
  {
   "cell_type": "code",
   "execution_count": 11,
   "id": "84e1214e-a97b-497a-bf9d-f33c28823130",
   "metadata": {},
   "outputs": [],
   "source": [
    "# Reading the with anomaly data into a data frame called daily jumpsup\n",
    "df_daily_jumpsup = pd.read_csv(with_anomaly_url, parse_dates=True, index_col=\"timestamp\")"
   ]
  },
  {
   "cell_type": "code",
   "execution_count": 12,
   "id": "45e58d1b-ed89-4e5c-85b0-537891be1ee1",
   "metadata": {},
   "outputs": [
    {
     "data": {
      "text/html": [
       "<div>\n",
       "<style scoped>\n",
       "    .dataframe tbody tr th:only-of-type {\n",
       "        vertical-align: middle;\n",
       "    }\n",
       "\n",
       "    .dataframe tbody tr th {\n",
       "        vertical-align: top;\n",
       "    }\n",
       "\n",
       "    .dataframe thead th {\n",
       "        text-align: right;\n",
       "    }\n",
       "</style>\n",
       "<table border=\"1\" class=\"dataframe\">\n",
       "  <thead>\n",
       "    <tr style=\"text-align: right;\">\n",
       "      <th></th>\n",
       "      <th>value</th>\n",
       "    </tr>\n",
       "    <tr>\n",
       "      <th>timestamp</th>\n",
       "      <th></th>\n",
       "    </tr>\n",
       "  </thead>\n",
       "  <tbody>\n",
       "    <tr>\n",
       "      <th>2014-04-01 00:00:00</th>\n",
       "      <td>19.761252</td>\n",
       "    </tr>\n",
       "    <tr>\n",
       "      <th>2014-04-01 00:05:00</th>\n",
       "      <td>20.500833</td>\n",
       "    </tr>\n",
       "    <tr>\n",
       "      <th>2014-04-01 00:10:00</th>\n",
       "      <td>19.961641</td>\n",
       "    </tr>\n",
       "    <tr>\n",
       "      <th>2014-04-01 00:15:00</th>\n",
       "      <td>21.490266</td>\n",
       "    </tr>\n",
       "    <tr>\n",
       "      <th>2014-04-01 00:20:00</th>\n",
       "      <td>20.187739</td>\n",
       "    </tr>\n",
       "  </tbody>\n",
       "</table>\n",
       "</div>"
      ],
      "text/plain": [
       "                         value\n",
       "timestamp                     \n",
       "2014-04-01 00:00:00  19.761252\n",
       "2014-04-01 00:05:00  20.500833\n",
       "2014-04-01 00:10:00  19.961641\n",
       "2014-04-01 00:15:00  21.490266\n",
       "2014-04-01 00:20:00  20.187739"
      ]
     },
     "execution_count": 12,
     "metadata": {},
     "output_type": "execute_result"
    }
   ],
   "source": [
    "# Have a look at the top 5 values\n",
    "df_daily_jumpsup.head()"
   ]
  },
  {
   "cell_type": "code",
   "execution_count": 13,
   "id": "2162c998-fdf7-45f6-a132-a06ab0700c43",
   "metadata": {},
   "outputs": [
    {
     "data": {
      "text/html": [
       "<div>\n",
       "<style scoped>\n",
       "    .dataframe tbody tr th:only-of-type {\n",
       "        vertical-align: middle;\n",
       "    }\n",
       "\n",
       "    .dataframe tbody tr th {\n",
       "        vertical-align: top;\n",
       "    }\n",
       "\n",
       "    .dataframe thead th {\n",
       "        text-align: right;\n",
       "    }\n",
       "</style>\n",
       "<table border=\"1\" class=\"dataframe\">\n",
       "  <thead>\n",
       "    <tr style=\"text-align: right;\">\n",
       "      <th></th>\n",
       "      <th>value</th>\n",
       "    </tr>\n",
       "  </thead>\n",
       "  <tbody>\n",
       "    <tr>\n",
       "      <th>count</th>\n",
       "      <td>4032.000000</td>\n",
       "    </tr>\n",
       "    <tr>\n",
       "      <th>mean</th>\n",
       "      <td>44.494254</td>\n",
       "    </tr>\n",
       "    <tr>\n",
       "      <th>std</th>\n",
       "      <td>32.432473</td>\n",
       "    </tr>\n",
       "    <tr>\n",
       "      <th>min</th>\n",
       "      <td>18.001010</td>\n",
       "    </tr>\n",
       "    <tr>\n",
       "      <th>25%</th>\n",
       "      <td>19.991382</td>\n",
       "    </tr>\n",
       "    <tr>\n",
       "      <th>50%</th>\n",
       "      <td>21.648503</td>\n",
       "    </tr>\n",
       "    <tr>\n",
       "      <th>75%</th>\n",
       "      <td>76.435943</td>\n",
       "    </tr>\n",
       "    <tr>\n",
       "      <th>max</th>\n",
       "      <td>164.947481</td>\n",
       "    </tr>\n",
       "  </tbody>\n",
       "</table>\n",
       "</div>"
      ],
      "text/plain": [
       "             value\n",
       "count  4032.000000\n",
       "mean     44.494254\n",
       "std      32.432473\n",
       "min      18.001010\n",
       "25%      19.991382\n",
       "50%      21.648503\n",
       "75%      76.435943\n",
       "max     164.947481"
      ]
     },
     "execution_count": 13,
     "metadata": {},
     "output_type": "execute_result"
    }
   ],
   "source": [
    "# Using the describe method to see the no. of values & other basic stats of the date frame\n",
    "df_daily_jumpsup.describe()\n",
    "\n",
    "#df_daily_jumpsup.shape"
   ]
  },
  {
   "cell_type": "code",
   "execution_count": 14,
   "id": "fecfada0-5a5c-4c56-b6ca-50d2367579ba",
   "metadata": {},
   "outputs": [
    {
     "data": {
      "text/plain": [
       "19.761251903"
      ]
     },
     "execution_count": 14,
     "metadata": {},
     "output_type": "execute_result"
    }
   ],
   "source": [
    "# Checking the first value in the second data frame\n",
    "df_daily_jumpsup.iloc[0]['value']"
   ]
  },
  {
   "cell_type": "code",
   "execution_count": 15,
   "id": "28941db6-dcce-459b-8b1c-913db9396c80",
   "metadata": {},
   "outputs": [
    {
     "data": {
      "image/png": "[encoded data removed]",
      "text/plain": [
       "<Figure size 720x432 with 1 Axes>"
      ]
     },
     "metadata": {
      "needs_background": "light"
     },
     "output_type": "display_data"
    }
   ],
   "source": [
    "# Creating another subplot\n",
    "fig, ax = plt.subplots(figsize=(10,6))\n",
    "\n",
    "# Use pandas to plot the second data frame\n",
    "df_daily_jumpsup.plot(legend=False, ax=ax);"
   ]
  },
  {
   "cell_type": "markdown",
   "id": "15ca7d6b-2f53-4fea-8433-1103ec811be5",
   "metadata": {},
   "source": [
    "<br>"
   ]
  },
  {
   "cell_type": "markdown",
   "id": "0f02b156-3b72-4d3c-a573-fa93f5b64e23",
   "metadata": {},
   "source": [
    "## 2. Pre-Processing\n",
    "***"
   ]
  },
  {
   "cell_type": "markdown",
   "id": "1c80370b-7d65-4d33-9e1f-0d58f07d53d6",
   "metadata": {},
   "source": [
    "Here, we prepare the data we are going to use to train the model by doing calculations on the dataset with no anomaly using the mean and standard deviation methods, and storing the data in windows inside a value called x_train."
   ]
  },
  {
   "cell_type": "code",
   "execution_count": 16,
   "id": "0609d490-ec4f-4d18-885b-adb23ae50436",
   "metadata": {},
   "outputs": [
    {
     "data": {
      "text/plain": [
       "value    42.438353\n",
       "dtype: float64"
      ]
     },
     "execution_count": 16,
     "metadata": {},
     "output_type": "execute_result"
    }
   ],
   "source": [
    "# get the mean of the no anomaly dataset & store it in var train_mean\n",
    "train_mean = df_small_noise.mean()\n",
    "\n",
    "train_mean"
   ]
  },
  {
   "cell_type": "code",
   "execution_count": 17,
   "id": "a649276a-e36a-44fa-b9ff-a42cc4473f67",
   "metadata": {},
   "outputs": [
    {
     "data": {
      "text/plain": [
       "value    28.077122\n",
       "dtype: float64"
      ]
     },
     "execution_count": 17,
     "metadata": {},
     "output_type": "execute_result"
    }
   ],
   "source": [
    "# get the standard deviation of the no anomaly dataset & store it in var train_std\n",
    "train_std = df_small_noise.std()\n",
    "\n",
    "train_std"
   ]
  },
  {
   "cell_type": "code",
   "execution_count": 18,
   "id": "e79b8a89-1984-4ebe-a648-bff824e9cc36",
   "metadata": {},
   "outputs": [],
   "source": [
    "# divide the difference between each no anomaly value & its mean by the standard deviation\n",
    "# store the result in a new data frame called df_train_vals\n",
    "df_train_vals = (df_small_noise - train_mean) / train_std"
   ]
  },
  {
   "cell_type": "code",
   "execution_count": 19,
   "id": "0f22cf41-fbdc-4469-836e-a159b2d9dc38",
   "metadata": {},
   "outputs": [
    {
     "data": {
      "text/html": [
       "<div>\n",
       "<style scoped>\n",
       "    .dataframe tbody tr th:only-of-type {\n",
       "        vertical-align: middle;\n",
       "    }\n",
       "\n",
       "    .dataframe tbody tr th {\n",
       "        vertical-align: top;\n",
       "    }\n",
       "\n",
       "    .dataframe thead th {\n",
       "        text-align: right;\n",
       "    }\n",
       "</style>\n",
       "<table border=\"1\" class=\"dataframe\">\n",
       "  <thead>\n",
       "    <tr style=\"text-align: right;\">\n",
       "      <th></th>\n",
       "      <th>value</th>\n",
       "    </tr>\n",
       "    <tr>\n",
       "      <th>timestamp</th>\n",
       "      <th></th>\n",
       "    </tr>\n",
       "  </thead>\n",
       "  <tbody>\n",
       "    <tr>\n",
       "      <th>2014-04-01 00:00:00</th>\n",
       "      <td>-0.858829</td>\n",
       "    </tr>\n",
       "    <tr>\n",
       "      <th>2014-04-01 00:05:00</th>\n",
       "      <td>-0.728993</td>\n",
       "    </tr>\n",
       "    <tr>\n",
       "      <th>2014-04-01 00:10:00</th>\n",
       "      <td>-0.848148</td>\n",
       "    </tr>\n",
       "    <tr>\n",
       "      <th>2014-04-01 00:15:00</th>\n",
       "      <td>-0.729586</td>\n",
       "    </tr>\n",
       "    <tr>\n",
       "      <th>2014-04-01 00:20:00</th>\n",
       "      <td>-0.731173</td>\n",
       "    </tr>\n",
       "  </tbody>\n",
       "</table>\n",
       "</div>"
      ],
      "text/plain": [
       "                        value\n",
       "timestamp                    \n",
       "2014-04-01 00:00:00 -0.858829\n",
       "2014-04-01 00:05:00 -0.728993\n",
       "2014-04-01 00:10:00 -0.848148\n",
       "2014-04-01 00:15:00 -0.729586\n",
       "2014-04-01 00:20:00 -0.731173"
      ]
     },
     "execution_count": 19,
     "metadata": {},
     "output_type": "execute_result"
    }
   ],
   "source": [
    "# Take a look at the top 5 values in the new data frame\n",
    "df_train_vals.head()"
   ]
  },
  {
   "cell_type": "code",
   "execution_count": 20,
   "id": "12cd8797-5d3c-4037-b317-0f1f432d964c",
   "metadata": {},
   "outputs": [],
   "source": [
    "# add new cols to the no anomaly dataframe containing the value - mean (less_mean) and\n",
    "# the new less_mean value divided by the standard deviation (div_std)\n",
    "df_small_noise['less_mean'] = df_small_noise['value'] - df_small_noise['value'].mean()\n",
    "df_small_noise['div_std'] = df_small_noise['less_mean'] / df_small_noise['value'].std()"
   ]
  },
  {
   "cell_type": "code",
   "execution_count": 21,
   "id": "d7e47961-8b63-4429-854f-3a00b5874211",
   "metadata": {},
   "outputs": [
    {
     "data": {
      "text/html": [
       "<div>\n",
       "<style scoped>\n",
       "    .dataframe tbody tr th:only-of-type {\n",
       "        vertical-align: middle;\n",
       "    }\n",
       "\n",
       "    .dataframe tbody tr th {\n",
       "        vertical-align: top;\n",
       "    }\n",
       "\n",
       "    .dataframe thead th {\n",
       "        text-align: right;\n",
       "    }\n",
       "</style>\n",
       "<table border=\"1\" class=\"dataframe\">\n",
       "  <thead>\n",
       "    <tr style=\"text-align: right;\">\n",
       "      <th></th>\n",
       "      <th>value</th>\n",
       "      <th>less_mean</th>\n",
       "      <th>div_std</th>\n",
       "    </tr>\n",
       "    <tr>\n",
       "      <th>timestamp</th>\n",
       "      <th></th>\n",
       "      <th></th>\n",
       "      <th></th>\n",
       "    </tr>\n",
       "  </thead>\n",
       "  <tbody>\n",
       "    <tr>\n",
       "      <th>2014-04-01 00:00:00</th>\n",
       "      <td>18.324919</td>\n",
       "      <td>-24.113435</td>\n",
       "      <td>-0.858829</td>\n",
       "    </tr>\n",
       "    <tr>\n",
       "      <th>2014-04-01 00:05:00</th>\n",
       "      <td>21.970327</td>\n",
       "      <td>-20.468026</td>\n",
       "      <td>-0.728993</td>\n",
       "    </tr>\n",
       "    <tr>\n",
       "      <th>2014-04-01 00:10:00</th>\n",
       "      <td>18.624806</td>\n",
       "      <td>-23.813547</td>\n",
       "      <td>-0.848148</td>\n",
       "    </tr>\n",
       "    <tr>\n",
       "      <th>2014-04-01 00:15:00</th>\n",
       "      <td>21.953684</td>\n",
       "      <td>-20.484669</td>\n",
       "      <td>-0.729586</td>\n",
       "    </tr>\n",
       "    <tr>\n",
       "      <th>2014-04-01 00:20:00</th>\n",
       "      <td>21.909120</td>\n",
       "      <td>-20.529234</td>\n",
       "      <td>-0.731173</td>\n",
       "    </tr>\n",
       "    <tr>\n",
       "      <th>...</th>\n",
       "      <td>...</td>\n",
       "      <td>...</td>\n",
       "      <td>...</td>\n",
       "    </tr>\n",
       "    <tr>\n",
       "      <th>2014-04-14 23:35:00</th>\n",
       "      <td>20.211195</td>\n",
       "      <td>-22.227159</td>\n",
       "      <td>-0.791647</td>\n",
       "    </tr>\n",
       "    <tr>\n",
       "      <th>2014-04-14 23:40:00</th>\n",
       "      <td>20.531041</td>\n",
       "      <td>-21.907313</td>\n",
       "      <td>-0.780255</td>\n",
       "    </tr>\n",
       "    <tr>\n",
       "      <th>2014-04-14 23:45:00</th>\n",
       "      <td>19.032127</td>\n",
       "      <td>-23.406226</td>\n",
       "      <td>-0.833640</td>\n",
       "    </tr>\n",
       "    <tr>\n",
       "      <th>2014-04-14 23:50:00</th>\n",
       "      <td>21.798801</td>\n",
       "      <td>-20.639552</td>\n",
       "      <td>-0.735102</td>\n",
       "    </tr>\n",
       "    <tr>\n",
       "      <th>2014-04-14 23:55:00</th>\n",
       "      <td>18.682620</td>\n",
       "      <td>-23.755733</td>\n",
       "      <td>-0.846089</td>\n",
       "    </tr>\n",
       "  </tbody>\n",
       "</table>\n",
       "<p>4032 rows × 3 columns</p>\n",
       "</div>"
      ],
      "text/plain": [
       "                         value  less_mean   div_std\n",
       "timestamp                                          \n",
       "2014-04-01 00:00:00  18.324919 -24.113435 -0.858829\n",
       "2014-04-01 00:05:00  21.970327 -20.468026 -0.728993\n",
       "2014-04-01 00:10:00  18.624806 -23.813547 -0.848148\n",
       "2014-04-01 00:15:00  21.953684 -20.484669 -0.729586\n",
       "2014-04-01 00:20:00  21.909120 -20.529234 -0.731173\n",
       "...                        ...        ...       ...\n",
       "2014-04-14 23:35:00  20.211195 -22.227159 -0.791647\n",
       "2014-04-14 23:40:00  20.531041 -21.907313 -0.780255\n",
       "2014-04-14 23:45:00  19.032127 -23.406226 -0.833640\n",
       "2014-04-14 23:50:00  21.798801 -20.639552 -0.735102\n",
       "2014-04-14 23:55:00  18.682620 -23.755733 -0.846089\n",
       "\n",
       "[4032 rows x 3 columns]"
      ]
     },
     "execution_count": 21,
     "metadata": {},
     "output_type": "execute_result"
    }
   ],
   "source": [
    "# lets see what the no anomaly data frame looks like now\n",
    "df_small_noise"
   ]
  },
  {
   "cell_type": "code",
   "execution_count": 22,
   "id": "1c80f33a-cbbe-46ab-85f7-76c908bbe75d",
   "metadata": {},
   "outputs": [
    {
     "data": {
      "text/plain": [
       "(42.438353335806646, -7.342627387941552e-14, -2.616541242931684e-15)"
      ]
     },
     "execution_count": 22,
     "metadata": {},
     "output_type": "execute_result"
    }
   ],
   "source": [
    "# calculate the mean of the value, less_mean and div_std columns in the data frame\n",
    "df_small_noise['value'].mean(), df_small_noise['less_mean'].mean(), df_small_noise['div_std'].mean()"
   ]
  },
  {
   "cell_type": "code",
   "execution_count": 23,
   "id": "6e07ccbb-5e40-47bc-9009-91704a98b938",
   "metadata": {},
   "outputs": [
    {
     "data": {
      "text/plain": [
       "(28.077122281262515, 28.077122281262508, 1.0000000000000018)"
      ]
     },
     "execution_count": 23,
     "metadata": {},
     "output_type": "execute_result"
    }
   ],
   "source": [
    "# calculate the standard deviation of the value, less_mean and div_std columns in the data frame\n",
    "df_small_noise['value'].std(), df_small_noise['less_mean'].std(), df_small_noise['div_std'].std()"
   ]
  },
  {
   "cell_type": "code",
   "execution_count": 24,
   "id": "1fd7068e-28a6-4df4-b794-3395a3a9479f",
   "metadata": {},
   "outputs": [
    {
     "data": {
      "image/png": "[encoded data removed]",
      "text/plain": [
       "<Figure size 864x432 with 1 Axes>"
      ]
     },
     "metadata": {
      "needs_background": "light"
     },
     "output_type": "display_data"
    }
   ],
   "source": [
    "# setting figsize\n",
    "fig, ax = plt.subplots(figsize=(12,6))\n",
    "\n",
    "# Plotting the train_vals data frame with pandas\n",
    "df_train_vals.plot(legend=False, ax=ax);"
   ]
  },
  {
   "cell_type": "markdown",
   "id": "2e802df5-e98f-4b33-93a2-1081bd464449",
   "metadata": {},
   "source": [
    "Compare this plot to the previous one where we plotted df_small_noise (the no anomaly dataset). From a quick glance, the two look the same but upon investigating the values you can see that we have essentially scaled the original values down to be centred around zero, with a standard deviation of approximately 1."
   ]
  },
  {
   "cell_type": "code",
   "execution_count": 25,
   "id": "71149c8d-3e77-45cb-8733-fa65fef90c1e",
   "metadata": {},
   "outputs": [
    {
     "data": {
      "text/plain": [
       "(4032, 1)"
      ]
     },
     "execution_count": 25,
     "metadata": {},
     "output_type": "execute_result"
    }
   ],
   "source": [
    "# using shape to see how many values are in the train_vals data frame\n",
    "df_train_vals.shape"
   ]
  },
  {
   "cell_type": "code",
   "execution_count": 26,
   "id": "3f81582a-2d70-49bc-9510-22e045cceec8",
   "metadata": {},
   "outputs": [],
   "source": [
    "# we need to break the train_vals into sequences or \"windows\" so we can look at each value\n",
    "# in relation to its peers - here we determine the window size will be 288\n",
    "window_size = 288"
   ]
  },
  {
   "cell_type": "code",
   "execution_count": 27,
   "id": "618db5eb-0006-49db-8e53-fef7f28b2ce8",
   "metadata": {},
   "outputs": [],
   "source": [
    "# defining a function to split the data into windows of size 288\n",
    "def windows(vals, n=window_size):\n",
    "  # creating a list L to store the windows\n",
    "  L = []\n",
    "  # looping through the data up to range 3745 (where the last window begins - 4032-288+1)\n",
    "  for i in range(len(vals) - n + 1):\n",
    "    # append each window to L\n",
    "    L.append(vals[i:i+n])\n",
    "  # stack method will create a 2D numpy array from L\n",
    "  return np.stack(L)"
   ]
  },
  {
   "cell_type": "code",
   "execution_count": 28,
   "id": "9f1f3571-9ef4-440f-81fb-5491bd1a50e1",
   "metadata": {},
   "outputs": [],
   "source": [
    "# pass the train_vals to the windows function & store result in var x_train\n",
    "x_train = windows(df_train_vals)"
   ]
  },
  {
   "cell_type": "code",
   "execution_count": 29,
   "id": "df214bec-6bc4-47cc-b187-197df2f33c6f",
   "metadata": {},
   "outputs": [
    {
     "data": {
      "text/plain": [
       "(array([-0.85882857]), array([-0.8460886]))"
      ]
     },
     "execution_count": 29,
     "metadata": {},
     "output_type": "execute_result"
    }
   ],
   "source": [
    "# checking value in first index of first window and last index of last window\n",
    "x_train[0][0], x_train[-1][-1]"
   ]
  },
  {
   "cell_type": "code",
   "execution_count": 30,
   "id": "29feea5e-50b2-4a81-8ffc-0538e17e9693",
   "metadata": {},
   "outputs": [
    {
     "data": {
      "text/plain": [
       "(value   -0.858829\n",
       " Name: 2014-04-01 00:00:00, dtype: float64,\n",
       " value   -0.846089\n",
       " Name: 2014-04-14 23:55:00, dtype: float64)"
      ]
     },
     "execution_count": 30,
     "metadata": {},
     "output_type": "execute_result"
    }
   ],
   "source": [
    "# checking first and last value in df_train_vals - notice these are the same as above\n",
    "df_train_vals.iloc[0], df_train_vals.iloc[-1]"
   ]
  },
  {
   "cell_type": "code",
   "execution_count": 31,
   "id": "69a51069-5f67-4c81-8cb8-a8e72ee896e2",
   "metadata": {},
   "outputs": [
    {
     "data": {
      "text/plain": [
       "(3745, 288, 1)"
      ]
     },
     "execution_count": 31,
     "metadata": {},
     "output_type": "execute_result"
    }
   ],
   "source": [
    "# using shape to check the # of values in x_train\n",
    "# note that 3745 + 288 -1 = 4032 (the # values in train_vals)\n",
    "x_train.shape"
   ]
  },
  {
   "cell_type": "code",
   "execution_count": 34,
   "id": "83b5d1cb-8045-46c0-b2c9-6d84a81ae9fb",
   "metadata": {},
   "outputs": [
    {
     "data": {
      "image/png": "[encoded data removed]",
      "text/plain": [
       "<Figure size 864x432 with 1 Axes>"
      ]
     },
     "metadata": {
      "needs_background": "light"
     },
     "output_type": "display_data"
    }
   ],
   "source": [
    "# set value for window number - this will be used as an index below\n",
    "window_no = 200\n",
    "\n",
    "# create a subplot and set the figsize\n",
    "fig, ax = plt.subplots(figsize=(12, 6))\n",
    "\n",
    "# set y = the values in the train_vals data frame\n",
    "y = df_train_vals['value'].values\n",
    "\n",
    "# plot y with label signal\n",
    "ax.plot(np.arange(y.shape[0]), y, label='Signal')\n",
    "\n",
    "# set var w = window at index 200 in x_train - flatten will remove the inner arrays\n",
    "w = x_train[window_no].flatten()\n",
    "\n",
    "# plot w on top of y with label window\n",
    "ax.plot(np.arange(w.shape[0]) + window_no, w, label='Window')\n",
    "\n",
    "# show the legend\n",
    "ax.legend();"
   ]
  },
  {
   "cell_type": "code",
   "execution_count": 35,
   "id": "6838160d-18fc-4468-9955-aa8618176a68",
   "metadata": {},
   "outputs": [
    {
     "data": {
      "image/png": "[encoded data removed]",
      "text/plain": [
       "<Figure size 864x432 with 1 Axes>"
      ]
     },
     "metadata": {
      "needs_background": "light"
     },
     "output_type": "display_data"
    }
   ],
   "source": [
    "# note that you can change which window gets plotted - see how the orange area moves along the x-axis\n",
    "window_no = 250\n",
    "\n",
    "fig, ax = plt.subplots(figsize=(12, 6))\n",
    "ax.plot(np.arange(y.shape[0]), y, label='Signal')\n",
    "\n",
    "# set var w = window at index 200 in x_train - flatten will remove the inner arrays\n",
    "w = x_train[window_no].flatten()\n",
    "\n",
    "# plot w on top of y with label window\n",
    "ax.plot(np.arange(w.shape[0]) + window_no, w, label='Window 250')\n",
    "\n",
    "# show the legend\n",
    "ax.legend();"
   ]
  },
  {
   "cell_type": "markdown",
   "id": "c91d707f-e507-475d-9046-9640d1979114",
   "metadata": {},
   "source": [
    "<br>"
   ]
  },
  {
   "cell_type": "markdown",
   "id": "8cc6ff22-e1ff-4840-9e6d-174e3a3970d2",
   "metadata": {},
   "source": [
    "## 3. Neural Network\n",
    "***"
   ]
  },
  {
   "cell_type": "markdown",
   "id": "f23092c9-440a-4a2a-875c-dcfd82d323b8",
   "metadata": {},
   "source": [
    "Now that we have our training data, we need to create the neural network for our model. This section is probably the most complicated of all sections in this notebook, so I will spend some time here explaining what is happening at each stage before getting into the code.  \n",
    "<br>  \n",
    "We begin building our neural network by defining the layers, which are described as \"_the primary building block of Keras models_\" by TutotialsPoint, with each layer receiving input, performing some calculation and outputting the result to the next layer []. We can then optimize and compile the model.  \n",
    "<br>  \n",
    "The layers can be defined as follows:\n",
    "##### Input  \n",
    "- Here's what the [Keras documentation](https://keras.io/api/layers/core_layers/input/) tells us about the input layer:  \n",
    "\"_Input() is used to instantiate a Keras tensor. A Keras tensor is a symbolic tensor-like object, which we augment with certain attributes that allow us to build a Keras model just by knowing the inputs and outputs of the model._\"[keras docs]  \n",
    "- The input layer is literally where we input data into our model. With the input layer, we need to specify the shape of the input data we are going to use to train the model in the form of tuples[wandb], so in our example the input shape has sequence_length of 288 and num_features 1. [keras docs]  \n",
    "\n",
    "##### Conv1D  \n",
    "- The next layer applied to our model is called Conv1D. According to [this GitHub post](https://kitchell.github.io/DeepLearningTutorial/4cnnsinkeras.html), the convolutional layer does the 'heavy lifting' within our neural network. In this layer, each filter (32 in our case) is slid (or convolved) along the input, and as this happens an activation or feature map is produced giving the response of the filter at each position. The author goes on to explain that \"_the network will learn filters that activate when they see a specific feature, such as edges if the input is an image. Each convolutional layer has multiple filters and each filter produces a separate activation or feature map. These activation maps are stacked together and passed to the next layer._\"[kitchell] In our model we are using a one dimensional Convolutional Layer, but 2D versions also exist.  \n",
    "- Note that when we create the Conv1D layer, we use the parameter activation=\"relu\", which stands for rectified linear unit. In their blogpost, kitchell tells us that relu sets all negative pixels or elements of the activation to zero, which introduces non-linearity into the data to make it more like real-life data, and helps to balance out the linear convolution process.[kitchell]  \n",
    "<br>  \n",
    "  \n",
    "##### Dropout  \n",
    "- The dropout layer is next. Jason Brownlee at machinelearningmastery.com tells us that dropout is a regularization technique for neural networks in which randomly selected neurons are ignored (or \"dropped off\") during training. [mlm dropout] It is not used when evaluating the model. [mlm dropout] The contribution of the dropped neurons to the activation of downstream neurons is temporally disabled on the forward pass, and any affect on the weights is not applied on the backward pass.[projectpro]  \n",
    "- Brownlee provides the following explanation on the effect of the dropout technique:  \n",
    "\"_As a neural network learns, neuron weights settle into their context within the network. Weights of neurons are tuned for specific features, providing some specialization. Neighboring neurons come to rely on this specialization, which, if taken too far, can result in a fragile model too specialized for the training data. This reliance on context for a neuron during training is referred to as complex co-adaptations.  \n",
    "You can imagine that if neurons are randomly dropped out of the network during training, other neurons will have to step in and handle the representation required to make predictions for the missing neurons. This is believed to result in multiple independent internal representations being learned by the network.  \n",
    "The effect is that the network becomes less sensitive to the specific weights of neurons. This, in turn, results in a network capable of better generalization and less likely to overfit the training data._\"[mlm dropout]  \n",
    "- In our model, we are using a dropout rate of 0.2. After this layer has been applied, another Conv1D layer is created, with 16 filters this time.  \n",
    "<br>  \n",
    "\n",
    "##### Conv1DTranspose  \n",
    "- After the second Conv1D layer has been applied to the model, we then add a Conv1DTranspose layer. Here's what the [Keras documentation](https://keras.io/api/layers/core_layers/input/) tells us about this layer:  \n",
    "\"_Transposed convolution layer (sometimes called Deconvolution).The need for transposed convolutions generally arises from the desire to use a transformation going in the opposite direction of a normal convolution, i.e., from something that has the shape of the output of some convolution to something that has the shape of its input while maintaining a connectivity pattern that is compatible with said convolution._\"  \n",
    "- This was the layer I found most difficult to understand, but based on the definition cited above and my understanding of how transpose works in Excel, I take it that in this step we are flipping the data that has been passed in the previous Conv1D step on it's head before it get's passed to the next layer.  \n",
    "- Following this step, a second dropout layer is applied to the model, followed by two more Conv1DTranspose layers.  \n",
    "<br>  \n",
    "\n",
    "Once the layers have been defined, we can then create our model by passing the layers to Keras. In this example, we use a sequential model. The idea is that the layers we pass to the model are arranged in order (sequence) with the data flowing from one layer to the next until it reaches the output layer. [https://www.tutorialspoint.com/keras/keras_models.htm]  \n",
    "<br>  \n",
    "\n",
    "The next step is optimization. The optimizer or optimization algorithm is the logic which the neural network uses to decide how much adjustment is needed on the weights on the nodes to solve the problem at hand, based on the difference between the training data and the results observed. [https://www.kaggle.com/code/residentmario/keras-optimizers]. We will use an optimizer called Adam, whose name is devired from adaptive moment estimation. [keras same]. While Adam is a form of stochastic gradient descent, it differs from the classical interpretation as the learning rate of the optimizer can adapt and do at different rates for each eight as learning unfolds. [mlmadam]  \n",
    "<br>  \n",
    "\n",
    "Finally, with the layers, model type and optimizer defined, the last step is to choose a loss function for our model. The purpose of the loss function is to evaluate the weights and aim to minimize the error (or loss), with less error equating to a more accurate neural network. [dataflair] The loss function we will use is called mse (mean squared error) and is calculated as the average of the squared differences between the predicted and actual values. [mlm htcl] This particular loss function punishes larger errors  more than small ones. [neptune]  \n",
    "<br>  \n",
    "\n",
    "We can then compile our model and take a look at it's summary information, before training the model. In training, we use x_train as both the input and the output (as we are using is a reconstruction model)[https://keras.io/examples/timeseries/timeseries_anomaly_detection/], and set epochs, which is number of times we want the model to be evaluated during training to 50 and batch size (the number of training instances) to 128. We also pass the argument validation_split=0.1, which according to the [offical Keras documentation](https://keras.io/api/models/model_training_apis/) is a \"_fraction of the training data to be used as validation data. The model will set apart this fraction of the training data, will not train on it, and will evaluate the loss and any model metrics on this data at the end of each epoch._\"[tpkmc].  \n",
    "<br>  \n",
    "\n",
    "The final argument we use in the training step is callbacks, with the class EarlyStopping, and we pass the following arguments: monitor=\"val_loss\", patience=5, mode=\"min\". With this argument, we are telling the model that it can stop the training when a monitored metric has stopped improving, and in this case we are telling it monitor the quantity of \"val_loss\", with patience (the number of epochs after which to stop the training if there is no improvement) set to 5 mode set to min, meaning training will stop when val_loss has stopped decreasing. [keras callbacks]  \n",
    "<br>\n",
    "\n",
    "Now, let's get into the code.  "
   ]
  },
  {
   "cell_type": "markdown",
   "id": "132440ee-d7b0-4bae-a1a9-ce1654bba5cc",
   "metadata": {},
   "source": [
    "<br>"
   ]
  },
  {
   "cell_type": "code",
   "execution_count": 36,
   "id": "cbc87cef-4f71-4977-bf89-e3586abd25ff",
   "metadata": {},
   "outputs": [
    {
     "data": {
      "text/plain": [
       "(3745, 288, 1)"
      ]
     },
     "execution_count": 36,
     "metadata": {},
     "output_type": "execute_result"
    }
   ],
   "source": [
    "# let's look at the shape of our training data again - we'll use this in the input layer\n",
    "x_train.shape"
   ]
  },
  {
   "cell_type": "code",
   "execution_count": 1,
   "id": "f2ca0681-2def-490b-a7a0-1033d581fdec",
   "metadata": {},
   "outputs": [
    {
     "ename": "NameError",
     "evalue": "name 'keras' is not defined",
     "output_type": "error",
     "traceback": [
      "\u001b[1;31m---------------------------------------------------------------------------\u001b[0m",
      "\u001b[1;31mNameError\u001b[0m                                 Traceback (most recent call last)",
      "\u001b[1;32m<ipython-input-1-4d030d704a3f>\u001b[0m in \u001b[0;36m<module>\u001b[1;34m\u001b[0m\n\u001b[0;32m      2\u001b[0m layers = [\n\u001b[0;32m      3\u001b[0m   \u001b[1;31m# input will be 288 (sequence length) & 1 (num_features) -> index 1 and 2 of the shape value above\u001b[0m\u001b[1;33m\u001b[0m\u001b[1;33m\u001b[0m\u001b[1;33m\u001b[0m\u001b[0m\n\u001b[1;32m----> 4\u001b[1;33m   \u001b[0mkeras\u001b[0m\u001b[1;33m.\u001b[0m\u001b[0mlayers\u001b[0m\u001b[1;33m.\u001b[0m\u001b[0mInput\u001b[0m\u001b[1;33m(\u001b[0m\u001b[0mshape\u001b[0m\u001b[1;33m=\u001b[0m\u001b[1;33m(\u001b[0m\u001b[0mx_train\u001b[0m\u001b[1;33m.\u001b[0m\u001b[0mshape\u001b[0m\u001b[1;33m[\u001b[0m\u001b[1;36m1\u001b[0m\u001b[1;33m]\u001b[0m\u001b[1;33m,\u001b[0m \u001b[0mx_train\u001b[0m\u001b[1;33m.\u001b[0m\u001b[0mshape\u001b[0m\u001b[1;33m[\u001b[0m\u001b[1;36m2\u001b[0m\u001b[1;33m]\u001b[0m\u001b[1;33m)\u001b[0m\u001b[1;33m)\u001b[0m\u001b[1;33m,\u001b[0m\u001b[1;33m\u001b[0m\u001b[1;33m\u001b[0m\u001b[0m\n\u001b[0m\u001b[0;32m      5\u001b[0m   \u001b[1;31m# 1st Conv1D layer with 32 filters and stride (paces to slide along data) of 2\u001b[0m\u001b[1;33m\u001b[0m\u001b[1;33m\u001b[0m\u001b[1;33m\u001b[0m\u001b[0m\n\u001b[0;32m      6\u001b[0m   keras.layers.Conv1D(\n",
      "\u001b[1;31mNameError\u001b[0m: name 'keras' is not defined"
     ]
    }
   ],
   "source": [
    "# defining the layers of our neural network\n",
    "layers = [\n",
    "  # input will be 288 (sequence length) & 1 (num_features) -> index 1 and 2 of the shape value above\n",
    "  keras.layers.Input(shape=(x_train.shape[1], x_train.shape[2])),\n",
    "  # 1st Conv1D layer with 32 filters and stride (paces to slide along data) of 2\n",
    "  keras.layers.Conv1D(\n",
    "    filters=32, kernel_size=7, padding=\"same\", strides=2, activation=\"relu\"),\n",
    "  # 1st dropout layer - ignoring/dropping off 2% of the neurons in the data\n",
    "  keras.layers.Dropout(rate=0.2),\n",
    "  # 2nd Conv1D layer - 16 filters this time but same stride\n",
    "  keras.layers.Conv1D(\n",
    "    filters=16, kernel_size=7, padding=\"same\", strides=2, activation=\"relu\"),\n",
    "  # 1st Conv1DTranspose layer where data is essentially flipped\n",
    "  keras.layers.Conv1DTranspose(\n",
    "    filters=16, kernel_size=7, padding=\"same\", strides=2, activation=\"relu\"),\n",
    "  # 2nd dropout layer, same rate\n",
    "  keras.layers.Dropout(rate=0.2),\n",
    "  # 2nd Conv1DTranspose layer\n",
    "  keras.layers.Conv1DTranspose(\n",
    "    filters=32, kernel_size=7, padding=\"same\", strides=2, activation=\"relu\"),\n",
    "  # 3rd Conv1DTranspose layer\n",
    "  keras.layers.Conv1DTranspose(filters=1, kernel_size=7, padding=\"same\"),\n",
    "]"
   ]
  },
  {
   "cell_type": "code",
   "execution_count": 38,
   "id": "02986e7f-7d3f-4ee2-9d6d-2a584e455c07",
   "metadata": {},
   "outputs": [],
   "source": [
    "# passing the layers to keras to create a sequential model\n",
    "model = keras.Sequential(layers)"
   ]
  },
  {
   "cell_type": "code",
   "execution_count": 39,
   "id": "3ec2abc2-908e-4159-816e-b2d4be37ce0e",
   "metadata": {},
   "outputs": [],
   "source": [
    "# using the Adam optimizer with learning rate 0.001 (this is the default learning rate)\n",
    "optimizer = keras.optimizers.Adam(learning_rate=0.001)"
   ]
  },
  {
   "cell_type": "code",
   "execution_count": 40,
   "id": "7e647861-f74b-427d-98f4-af74d1e7642f",
   "metadata": {},
   "outputs": [],
   "source": [
    "# compiling the module with our Adam optimizer & mean squared error loss function\n",
    "model.compile(optimizer=optimizer, loss=\"mse\")"
   ]
  },
  {
   "cell_type": "code",
   "execution_count": 41,
   "id": "c08495e8-b6fa-497b-9225-7925eafb456d",
   "metadata": {},
   "outputs": [
    {
     "name": "stdout",
     "output_type": "stream",
     "text": [
      "Model: \"sequential\"\n",
      "_________________________________________________________________\n",
      " Layer (type)                Output Shape              Param #   \n",
      "=================================================================\n",
      " conv1d (Conv1D)             (None, 144, 32)           256       \n",
      "                                                                 \n",
      " dropout (Dropout)           (None, 144, 32)           0         \n",
      "                                                                 \n",
      " conv1d_1 (Conv1D)           (None, 72, 16)            3600      \n",
      "                                                                 \n",
      " conv1d_transpose (Conv1DTra  (None, 144, 16)          1808      \n",
      " nspose)                                                         \n",
      "                                                                 \n",
      " dropout_1 (Dropout)         (None, 144, 16)           0         \n",
      "                                                                 \n",
      " conv1d_transpose_1 (Conv1DT  (None, 288, 32)          3616      \n",
      " ranspose)                                                       \n",
      "                                                                 \n",
      " conv1d_transpose_2 (Conv1DT  (None, 288, 1)           225       \n",
      " ranspose)                                                       \n",
      "                                                                 \n",
      "=================================================================\n",
      "Total params: 9,505\n",
      "Trainable params: 9,505\n",
      "Non-trainable params: 0\n",
      "_________________________________________________________________\n"
     ]
    }
   ],
   "source": [
    "# summary of our model\n",
    "model.summary()"
   ]
  },
  {
   "cell_type": "code",
   "execution_count": 42,
   "id": "229c8d22-cf9e-4fde-8438-35dc6744a717",
   "metadata": {},
   "outputs": [
    {
     "name": "stdout",
     "output_type": "stream",
     "text": [
      "Epoch 1/50\n",
      "27/27 [==============================] - 7s 112ms/step - loss: 0.4146 - val_loss: 0.0625\n",
      "Epoch 2/50\n",
      "27/27 [==============================] - 2s 86ms/step - loss: 0.0752 - val_loss: 0.0450\n",
      "Epoch 3/50\n",
      "27/27 [==============================] - 2s 87ms/step - loss: 0.0562 - val_loss: 0.0350\n",
      "Epoch 4/50\n",
      "27/27 [==============================] - 2s 87ms/step - loss: 0.0477 - val_loss: 0.0313\n",
      "Epoch 5/50\n",
      "27/27 [==============================] - 2s 86ms/step - loss: 0.0419 - val_loss: 0.0274\n",
      "Epoch 6/50\n",
      "27/27 [==============================] - 2s 86ms/step - loss: 0.0370 - val_loss: 0.0239\n",
      "Epoch 7/50\n",
      "27/27 [==============================] - 2s 85ms/step - loss: 0.0332 - val_loss: 0.0225\n",
      "Epoch 8/50\n",
      "27/27 [==============================] - 2s 82ms/step - loss: 0.0302 - val_loss: 0.0207\n",
      "Epoch 9/50\n",
      "27/27 [==============================] - 2s 83ms/step - loss: 0.0278 - val_loss: 0.0203\n",
      "Epoch 10/50\n",
      "27/27 [==============================] - 2s 83ms/step - loss: 0.0260 - val_loss: 0.0191\n",
      "Epoch 11/50\n",
      "27/27 [==============================] - 2s 82ms/step - loss: 0.0245 - val_loss: 0.0202\n",
      "Epoch 12/50\n",
      "27/27 [==============================] - 2s 80ms/step - loss: 0.0234 - val_loss: 0.0201\n",
      "Epoch 13/50\n",
      "27/27 [==============================] - 2s 79ms/step - loss: 0.0222 - val_loss: 0.0194\n",
      "Epoch 14/50\n",
      "27/27 [==============================] - 2s 79ms/step - loss: 0.0213 - val_loss: 0.0204\n",
      "Epoch 15/50\n",
      "27/27 [==============================] - 2s 79ms/step - loss: 0.0204 - val_loss: 0.0214\n"
     ]
    }
   ],
   "source": [
    "# training the model\n",
    "history = model.fit(\n",
    "    x_train,\n",
    "    x_train,\n",
    "    epochs=50,\n",
    "    batch_size=128,\n",
    "    validation_split=0.1,\n",
    "    callbacks=[\n",
    "        keras.callbacks.EarlyStopping(monitor=\"val_loss\", patience=5, mode=\"min\")\n",
    "    ],\n",
    ")"
   ]
  },
  {
   "cell_type": "markdown",
   "id": "7f6e7e54-cdf6-45f9-b62b-a4bcbf80fa59",
   "metadata": {},
   "source": [
    "<br>"
   ]
  },
  {
   "cell_type": "markdown",
   "id": "3585ddd3-739a-4d04-8b09-77f0d8c3f277",
   "metadata": {},
   "source": [
    "## 4. Evaluation\n",
    "***"
   ]
  },
  {
   "cell_type": "code",
   "execution_count": 43,
   "id": "bde92a29-3ea3-4ea2-9559-cda6b9c38f71",
   "metadata": {},
   "outputs": [
    {
     "data": {
      "text/plain": [
       "[0.4145907759666443,\n",
       " 0.0752328410744667,\n",
       " 0.05616191029548645,\n",
       " 0.047728944569826126,\n",
       " 0.04186296463012695,\n",
       " 0.036971546709537506,\n",
       " 0.03316342830657959,\n",
       " 0.03021041676402092,\n",
       " 0.027822298929095268,\n",
       " 0.02603631466627121,\n",
       " 0.024493716657161713,\n",
       " 0.023353826254606247,\n",
       " 0.02222273126244545,\n",
       " 0.021276837214827538,\n",
       " 0.02044427953660488]"
      ]
     },
     "execution_count": 43,
     "metadata": {},
     "output_type": "execute_result"
    }
   ],
   "source": [
    "history.history[\"loss\"]"
   ]
  },
  {
   "cell_type": "code",
   "execution_count": 44,
   "id": "30ce988c-edae-4b8f-bb1c-095c1e13f46e",
   "metadata": {},
   "outputs": [
    {
     "data": {
      "text/plain": [
       "[0.06245517358183861,\n",
       " 0.04495708644390106,\n",
       " 0.03501144051551819,\n",
       " 0.03126842901110649,\n",
       " 0.02744377963244915,\n",
       " 0.02387864701449871,\n",
       " 0.022505884990096092,\n",
       " 0.02071971446275711,\n",
       " 0.020263129845261574,\n",
       " 0.01908019930124283,\n",
       " 0.020207837224006653,\n",
       " 0.020106825977563858,\n",
       " 0.0194094255566597,\n",
       " 0.020447710528969765,\n",
       " 0.02142021618783474]"
      ]
     },
     "execution_count": 44,
     "metadata": {},
     "output_type": "execute_result"
    }
   ],
   "source": [
    "history.history[\"val_loss\"]"
   ]
  },
  {
   "cell_type": "code",
   "execution_count": 45,
   "id": "829f43bf-0fd3-47aa-b45b-f9fca245b0fe",
   "metadata": {},
   "outputs": [
    {
     "data": {
      "image/png": "[encoded data removed]",
      "text/plain": [
       "<Figure size 720x432 with 1 Axes>"
      ]
     },
     "metadata": {
      "needs_background": "light"
     },
     "output_type": "display_data"
    }
   ],
   "source": [
    "# \n",
    "fig, ax = plt.subplots(figsize=(10, 6))\n",
    "# \n",
    "ax.plot(history.history[\"loss\"], label=\"Training Loss\")\n",
    "# \n",
    "ax.plot(history.history[\"val_loss\"], label=\"Validation Loss\")\n",
    "# \n",
    "ax.legend();"
   ]
  },
  {
   "cell_type": "code",
   "execution_count": 46,
   "id": "65009986-a249-4b88-9d6a-c4cb069670c2",
   "metadata": {},
   "outputs": [
    {
     "name": "stdout",
     "output_type": "stream",
     "text": [
      "118/118 [==============================] - 2s 13ms/step\n"
     ]
    }
   ],
   "source": [
    "# Get train MAE loss.\n",
    "x_train_pred = model.predict(x_train)"
   ]
  },
  {
   "cell_type": "code",
   "execution_count": 47,
   "id": "9f8f2416-255c-4cc8-9610-8dbb35435f88",
   "metadata": {},
   "outputs": [],
   "source": [
    "# Calculate loss...\n",
    "train_mae_loss = np.mean(np.abs(x_train_pred - x_train), axis=1)"
   ]
  },
  {
   "cell_type": "code",
   "execution_count": 48,
   "id": "b646b9d6-c403-4ca3-bb2b-de4adc625176",
   "metadata": {},
   "outputs": [
    {
     "data": {
      "image/png": "[encoded data removed]",
      "text/plain": [
       "<Figure size 720x432 with 1 Axes>"
      ]
     },
     "metadata": {
      "needs_background": "light"
     },
     "output_type": "display_data"
    }
   ],
   "source": [
    "# \n",
    "fig, ax = plt.subplots(figsize=(10, 6))\n",
    "# \n",
    "ax.hist(train_mae_loss, bins=50)\n",
    "# \n",
    "ax.set_xlabel(\"Train MAE Loss\")\n",
    "#\n",
    "ax.set_ylabel(\"No. of Samples\");"
   ]
  },
  {
   "cell_type": "code",
   "execution_count": 49,
   "id": "3ce87b24-d218-4e9f-95da-113a004f67e6",
   "metadata": {},
   "outputs": [
    {
     "data": {
      "text/plain": [
       "0.13135062508687226"
      ]
     },
     "execution_count": 49,
     "metadata": {},
     "output_type": "execute_result"
    }
   ],
   "source": [
    "# Get reconstruction loss threshold.\n",
    "threshold = np.max(train_mae_loss)\n",
    "\n",
    "# \n",
    "threshold"
   ]
  },
  {
   "cell_type": "code",
   "execution_count": 50,
   "id": "e057837a-55f4-4367-88ca-5654c9867dbf",
   "metadata": {},
   "outputs": [
    {
     "data": {
      "image/png": "[encoded data removed]",
      "text/plain": [
       "<Figure size 720x432 with 1 Axes>"
      ]
     },
     "metadata": {
      "needs_background": "light"
     },
     "output_type": "display_data"
    }
   ],
   "source": [
    "# \n",
    "fig, ax = plt.subplots(figsize=(10, 6))\n",
    "\n",
    "# \n",
    "ax.plot(x_train[0])\n",
    "\n",
    "# \n",
    "ax.plot(x_train_pred[0]);"
   ]
  },
  {
   "cell_type": "code",
   "execution_count": 51,
   "id": "4b60478b-db7d-4316-b8a4-e64fdf35260f",
   "metadata": {},
   "outputs": [],
   "source": [
    "# \n",
    "df_test_value = (df_daily_jumpsup - train_mean) / train_std"
   ]
  },
  {
   "cell_type": "code",
   "execution_count": 52,
   "id": "792db028-2713-45f8-b154-da0c923941a6",
   "metadata": {},
   "outputs": [
    {
     "data": {
      "image/png": "[encoded data removed]",
      "text/plain": [
       "<Figure size 720x432 with 1 Axes>"
      ]
     },
     "metadata": {
      "needs_background": "light"
     },
     "output_type": "display_data"
    }
   ],
   "source": [
    "# \n",
    "fig, ax = plt.subplots(figsize=(10, 6))\n",
    "\n",
    "# \n",
    "df_test_value.plot(legend=False, ax=ax);"
   ]
  },
  {
   "cell_type": "code",
   "execution_count": 53,
   "id": "25251571-5370-4bf3-869f-9fc71d8a908e",
   "metadata": {},
   "outputs": [
    {
     "data": {
      "text/plain": [
       "(3745, 288, 1)"
      ]
     },
     "execution_count": 53,
     "metadata": {},
     "output_type": "execute_result"
    }
   ],
   "source": [
    "# Create sequences from test values.\n",
    "x_test = windows(df_test_value.values)\n",
    "\n",
    "x_test.shape"
   ]
  },
  {
   "cell_type": "code",
   "execution_count": 54,
   "id": "acd03777-2c89-40fc-b1b1-a49ce9fdc5df",
   "metadata": {},
   "outputs": [
    {
     "name": "stdout",
     "output_type": "stream",
     "text": [
      "118/118 [==============================] - 2s 13ms/step\n"
     ]
    }
   ],
   "source": [
    "# \n",
    "x_test_pred = model.predict(x_test)"
   ]
  },
  {
   "cell_type": "code",
   "execution_count": 55,
   "id": "bbba52b6-af40-4c5c-a1f8-dc88488fc5dc",
   "metadata": {},
   "outputs": [
    {
     "data": {
      "text/plain": [
       "array([[0.11121328],\n",
       "       [0.11222807],\n",
       "       [0.11102463],\n",
       "       ...,\n",
       "       [0.11343133],\n",
       "       [0.11431511],\n",
       "       [0.10970784]])"
      ]
     },
     "execution_count": 55,
     "metadata": {},
     "output_type": "execute_result"
    }
   ],
   "source": [
    "# \n",
    "test_mae_loss = np.mean(np.abs(x_test_pred - x_test), axis=1)\n",
    "\n",
    "test_mae_loss"
   ]
  },
  {
   "cell_type": "code",
   "execution_count": 56,
   "id": "29e9ad0a-113f-46b4-9541-d07f5fc9fa12",
   "metadata": {},
   "outputs": [
    {
     "data": {
      "text/plain": [
       "array([0.11121328, 0.11222807, 0.11102463, ..., 0.11343133, 0.11431511,\n",
       "       0.10970784])"
      ]
     },
     "execution_count": 56,
     "metadata": {},
     "output_type": "execute_result"
    }
   ],
   "source": [
    "# \n",
    "test_mae_loss = test_mae_loss.reshape((-1))\n",
    "\n",
    "test_mae_loss"
   ]
  },
  {
   "cell_type": "code",
   "execution_count": 57,
   "id": "547d6cac-deeb-4def-adeb-1fbf1a0d6ca6",
   "metadata": {},
   "outputs": [
    {
     "data": {
      "image/png": "[encoded data removed]",
      "text/plain": [
       "<Figure size 720x432 with 1 Axes>"
      ]
     },
     "metadata": {
      "needs_background": "light"
     },
     "output_type": "display_data"
    }
   ],
   "source": [
    "# \n",
    "fig, ax = plt.subplots(figsize=(10, 6))\n",
    "\n",
    "#\n",
    "ax.hist(test_mae_loss, bins=50)\n",
    "\n",
    "# \n",
    "ax.set_xlabel(\"Test MAE Loss\")\n",
    "\n",
    "# \n",
    "ax.set_ylabel(\"No. of Samples\");"
   ]
  },
  {
   "cell_type": "code",
   "execution_count": 58,
   "id": "5eab9fdb-3db6-4d50-8559-17d21db75f0d",
   "metadata": {},
   "outputs": [
    {
     "data": {
      "text/plain": [
       "405"
      ]
     },
     "execution_count": 58,
     "metadata": {},
     "output_type": "execute_result"
    }
   ],
   "source": [
    "# Detect all the samples which are anomalies\n",
    "anomalies = test_mae_loss > threshold\n",
    "\n",
    "# Number of anomalies\n",
    "np.sum(anomalies)"
   ]
  },
  {
   "cell_type": "code",
   "execution_count": 59,
   "id": "4abe0d2b-4039-48e3-a92c-6319f0da28a7",
   "metadata": {},
   "outputs": [],
   "source": [
    "# data i is an anomaly if samples [(i - timesteps + 1) to (i)] are anomalies\n",
    "inds = []\n",
    "\n",
    "for i in range(window_size - 1, len(df_test_value) - window_size + 1):\n",
    "    if np.all(anomalies[i - window_size + 1 : i]):\n",
    "        inds.append(i)"
   ]
  },
  {
   "cell_type": "code",
   "execution_count": 60,
   "id": "e33363e0-a623-4c45-ae91-78caf5676b2c",
   "metadata": {},
   "outputs": [],
   "source": [
    "# \n",
    "df_subset = df_daily_jumpsup.iloc[inds]"
   ]
  },
  {
   "cell_type": "code",
   "execution_count": 61,
   "id": "b4572524-60a9-40b4-8889-4b86871f69f5",
   "metadata": {},
   "outputs": [
    {
     "data": {
      "image/png": "[encoded data removed]",
      "text/plain": [
       "<Figure size 720x432 with 1 Axes>"
      ]
     },
     "metadata": {
      "needs_background": "light"
     },
     "output_type": "display_data"
    }
   ],
   "source": [
    "#\n",
    "fig, ax = plt.subplots(figsize=(10, 6))\n",
    "\n",
    "# \n",
    "df_daily_jumpsup.plot(legend=False, ax=ax)\n",
    "\n",
    "# \n",
    "df_subset.plot(legend=False, ax=ax, color=\"r\");"
   ]
  },
  {
   "cell_type": "markdown",
   "id": "2a69e477-d226-4f09-89a8-41d24e81e19b",
   "metadata": {},
   "source": [
    "<br>"
   ]
  },
  {
   "cell_type": "markdown",
   "id": "9d1b19fb-19d1-4e2d-bc8e-431847d02c5a",
   "metadata": {},
   "source": [
    "## Conclusion\n",
    "***"
   ]
  },
  {
   "cell_type": "markdown",
   "id": "653e7cb0-f136-4c43-b7d7-2b134a8da9d7",
   "metadata": {},
   "source": [
    "In conclusion...."
   ]
  },
  {
   "cell_type": "markdown",
   "id": "c372d0a3-fdba-4c22-a630-199a366c90e1",
   "metadata": {},
   "source": [
    "<br>"
   ]
  },
  {
   "cell_type": "markdown",
   "id": "775b7b14-154e-4f75-ba12-adbb4c3e7ab6",
   "metadata": {},
   "source": [
    "## References\n",
    "***"
   ]
  },
  {
   "cell_type": "markdown",
   "id": "84483a73-c3f7-43e3-a204-00fefcb3f5ea",
   "metadata": {},
   "source": [
    "[] https://data-flair.training/blogs/keras-loss-functions/  \n",
    "[] https://fintelics.medium.com/everything-you-need-to-know-about-numenta-anomaly-benchmark-nab-b43ab7f014df  \n",
    "[] https://www.kaggle.com/code/residentmario/keras-optimizers  \n",
    "[] https://www.kaggle.com/datasets/boltzmannbrain/nab  \n",
    "[] https://keras.io/api/callbacks/early_stopping/  \n",
    "[] https://keras.io/api/models/model_training_apis/  \n",
    "[] https://keras.io/examples/timeseries/timeseries_anomaly_detection/  \n",
    "[] https://keras.io/api/layers/core_layers/input/  \n",
    "[] https://kitchell.github.io/DeepLearningTutorial/4cnnsinkeras.html  \n",
    "[] https://machinelearningmastery.com/adam-optimization-algorithm-for-deep-learning/  \n",
    "[] https://machinelearningmastery.com/dropout-regularization-deep-learning-models-keras/  \n",
    "[] https://machinelearningmastery.com/how-to-choose-loss-functions-when-training-deep-learning-neural-networks/  \n",
    "[] https://machinelearningmastery.com/lstm-autoencoders/  \n",
    "[] https://medium.com/towards-artificial-intelligence/autoencoder-for-anomaly-detection-using-tensorflow-keras-7fdfa9f3ad99  \n",
    "[] https://neptune.ai/blog/keras-loss-functions  \n",
    "[] https://www.projectpro.io/recipes/what-is-drop-out-rate-keras  \n",
    "[] https://towardsdatascience.com/time-series-of-price-anomaly-detection-with-lstm-11a12ba4f6d9  \n",
    "[] https://www.tutorialspoint.com/keras/keras_layers.htm  \n",
    "[] https://www.tutorialspoint.com/keras/keras_model_compilation.htm  \n",
    "[] https://www.tutorialspoint.com/keras/keras_models.htm  \n",
    "[] https://wandb.ai/ayush-thakur/dl-question-bank/reports/Keras-Layer-Input-Explanation-With-Code-Samples--VmlldzoyMDIzMDU  "
   ]
  },
  {
   "cell_type": "markdown",
   "id": "703146cb-2a3b-48d2-b329-d1603575977b",
   "metadata": {},
   "source": [
    "<br>"
   ]
  },
  {
   "cell_type": "markdown",
   "id": "996b5faa-5039-452f-b671-5d2f9d7a9f58",
   "metadata": {},
   "source": [
    "# End\n",
    "***"
   ]
  }
 ],
 "metadata": {
  "kernelspec": {
   "display_name": "Python 3",
   "language": "python",
   "name": "python3"
  },
  "language_info": {
   "codemirror_mode": {
    "name": "ipython",
    "version": 3
   },
   "file_extension": ".py",
   "mimetype": "text/x-python",
   "name": "python",
   "nbconvert_exporter": "python",
   "pygments_lexer": "ipython3",
   "version": "3.8.8"
  }
 },
 "nbformat": 4,
 "nbformat_minor": 5
}
