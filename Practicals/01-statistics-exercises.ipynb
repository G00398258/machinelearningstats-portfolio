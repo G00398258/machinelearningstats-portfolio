{
 "cells": [
  {
   "cell_type": "markdown",
   "id": "86f02814-4818-49d2-9763-f547fe76c750",
   "metadata": {},
   "source": [
    "# Exercise 1.1\n",
    "***\n",
    "\n",
    "The above gives about a 1.5% chance of randomly selecting the correct cups. Calculate the minimum number of cups of tea required to ensure the probability of randomly selecting the correct cups is less than or equal to 1%."
   ]
  },
  {
   "cell_type": "code",
   "execution_count": 1,
   "id": "30e64244-d0b9-49c4-848e-ea1e72a89883",
   "metadata": {},
   "outputs": [],
   "source": [
    "# importing math and comb modules\n",
    "import math\n",
    "from math import comb"
   ]
  },
  {
   "cell_type": "code",
   "execution_count": 2,
   "id": "3b2d88f7-f953-43ca-b8cb-c8a2cc7eacda",
   "metadata": {
    "tags": []
   },
   "outputs": [
    {
     "data": {
      "text/plain": [
       "70"
      ]
     },
     "execution_count": 2,
     "metadata": {},
     "output_type": "execute_result"
    }
   ],
   "source": [
    "# we saw in Ian's example that there are 70 different combinations for selecting the correct cups\n",
    "math.comb(8,4)"
   ]
  },
  {
   "cell_type": "code",
   "execution_count": 3,
   "id": "198f1b6a-2021-4146-9f9e-4e734515acfe",
   "metadata": {},
   "outputs": [
    {
     "data": {
      "text/plain": [
       "0.014285714285714285"
      ]
     },
     "execution_count": 3,
     "metadata": {},
     "output_type": "execute_result"
    }
   ],
   "source": [
    "# that gives a probability of\n",
    "1.0 / math.comb(8,4)"
   ]
  },
  {
   "cell_type": "code",
   "execution_count": 4,
   "id": "69ec9160-5426-44da-aea0-7f346b503395",
   "metadata": {},
   "outputs": [
    {
     "data": {
      "text/plain": [
       "126"
      ]
     },
     "execution_count": 4,
     "metadata": {},
     "output_type": "execute_result"
    }
   ],
   "source": [
    "# so lets try increasing the number of cups to 9 and keeping the required correct answers to 4 & see the result\n",
    "math.comb(9,4)"
   ]
  },
  {
   "cell_type": "code",
   "execution_count": 5,
   "id": "fbcd6c7b-3510-4680-9459-47a6a4c59bb0",
   "metadata": {},
   "outputs": [
    {
     "data": {
      "text/plain": [
       "0.007936507936507936"
      ]
     },
     "execution_count": 5,
     "metadata": {},
     "output_type": "execute_result"
    }
   ],
   "source": [
    "# that gives us 126 different combinations, and the probabily of the tester selecting the correct cups would be\n",
    "1.0 / math.comb(9,4)"
   ]
  },
  {
   "cell_type": "markdown",
   "id": "1f114680-3a45-449b-be61-35727be5d16e",
   "metadata": {},
   "source": [
    "Therefore, having 9 cups of tea in this experiment would ensure that the probability of randomly selecting the correct cups is less than or equal to 1% (0.7 % in this case)."
   ]
  },
  {
   "cell_type": "markdown",
   "id": "ad9884f5-31e0-48fd-9585-2074338e79e4",
   "metadata": {},
   "source": [
    "<br>"
   ]
  },
  {
   "cell_type": "markdown",
   "id": "974d2e5c-9378-4c01-b856-b143ad5a72b1",
   "metadata": {},
   "source": [
    "*__Bonus__:* How many would be required if you were to let the taster get one cup wrong while maintaining the 1% threshold?"
   ]
  },
  {
   "cell_type": "markdown",
   "id": "dc2a2b4f-555c-495e-badc-6612a33e7dd2",
   "metadata": {},
   "source": [
    "We saw in this week's lecture that when the total number of cups is 8, the probability of the tester getting 3 out of 4 cups correct is approximately 20%."
   ]
  },
  {
   "cell_type": "markdown",
   "id": "6d90af78-a5ed-485c-903c-6dce761aa9d1",
   "metadata": {},
   "source": [
    "Above, we also saw that having 9 cups and requiring 4 to be correct would yield a possibility that is less than or equal to 1%. Let's try increasing the total number of cups & requiring 3 correct answers to see what the probability would be."
   ]
  },
  {
   "cell_type": "code",
   "execution_count": 6,
   "id": "492a7fd0-e0a4-4039-95de-3767e72cf605",
   "metadata": {},
   "outputs": [
    {
     "data": {
      "text/plain": [
       "220"
      ]
     },
     "execution_count": 6,
     "metadata": {},
     "output_type": "execute_result"
    }
   ],
   "source": [
    "# lets try 12 total cups, requiring 3 correct answers and see what we get\n",
    "math.comb(12,3)"
   ]
  },
  {
   "cell_type": "code",
   "execution_count": 7,
   "id": "182160f8-390f-40ee-9302-38ebe31e90d7",
   "metadata": {},
   "outputs": [
    {
     "data": {
      "text/plain": [
       "0.004545454545454545"
      ]
     },
     "execution_count": 7,
     "metadata": {},
     "output_type": "execute_result"
    }
   ],
   "source": [
    "# the probability in this case is\n",
    "1 / math.comb(12,3)"
   ]
  },
  {
   "cell_type": "markdown",
   "id": "b8ee9b11-933c-4541-a822-36485794c9d4",
   "metadata": {},
   "source": [
    "So a total of 12 cups requiring 3 correct answers would be below the 1% threshold, but let's chack it we can reduce the number of cups any further."
   ]
  },
  {
   "cell_type": "code",
   "execution_count": 8,
   "id": "b21eb9e9-8718-41d3-a5bd-a6874410f7ff",
   "metadata": {},
   "outputs": [
    {
     "data": {
      "text/plain": [
       "165"
      ]
     },
     "execution_count": 8,
     "metadata": {},
     "output_type": "execute_result"
    }
   ],
   "source": [
    "# lets try 11 cups\n",
    "math.comb(11,3)"
   ]
  },
  {
   "cell_type": "code",
   "execution_count": 9,
   "id": "097c987e-544e-4a0c-b5d2-3ac474288fba",
   "metadata": {},
   "outputs": [
    {
     "data": {
      "text/plain": [
       "0.006060606060606061"
      ]
     },
     "execution_count": 9,
     "metadata": {},
     "output_type": "execute_result"
    }
   ],
   "source": [
    "# and now the probability is\n",
    "1 / math.comb(11,3)"
   ]
  },
  {
   "cell_type": "code",
   "execution_count": 10,
   "id": "6135051b-2d1d-4b19-9574-cc1f6e10643d",
   "metadata": {},
   "outputs": [
    {
     "data": {
      "text/plain": [
       "120"
      ]
     },
     "execution_count": 10,
     "metadata": {},
     "output_type": "execute_result"
    }
   ],
   "source": [
    "# still < 1% - lets try reducing the number of cups once more\n",
    "math.comb(10,3)"
   ]
  },
  {
   "cell_type": "code",
   "execution_count": 11,
   "id": "eca348f4-44eb-4aa0-88b9-5de7ed68fca7",
   "metadata": {},
   "outputs": [
    {
     "data": {
      "text/plain": [
       "0.008333333333333333"
      ]
     },
     "execution_count": 11,
     "metadata": {},
     "output_type": "execute_result"
    }
   ],
   "source": [
    "# with a probability of\n",
    "1 / math.comb(10,3)"
   ]
  },
  {
   "cell_type": "markdown",
   "id": "b40dd2e0-5681-4e99-9a31-3c9d7da5a3dd",
   "metadata": {},
   "source": [
    "So by reducing the number of cups again, we can see that with a total of 10 cups, the probability of having 3 correct answers would be under the 1% threshold."
   ]
  },
  {
   "cell_type": "markdown",
   "id": "d6f5ebb6-bc7e-40e1-bb0d-601df4941d68",
   "metadata": {},
   "source": [
    "<br>"
   ]
  },
  {
   "cell_type": "markdown",
   "id": "016604cd-8b21-460a-b3d9-bee89c5a162f",
   "metadata": {},
   "source": [
    "# Exerise 1.2\n",
    "***"
   ]
  },
  {
   "cell_type": "markdown",
   "id": "0296a75c-9334-40ee-8f75-fb708314ad15",
   "metadata": {},
   "source": [
    "Use scipy's version of Fisher's exact test to simulate the Lady Tasting Tea problem."
   ]
  },
  {
   "cell_type": "code",
   "execution_count": 12,
   "id": "4c97b46d-2e8e-4a3f-a841-b1f524090e81",
   "metadata": {},
   "outputs": [],
   "source": [
    "import scipy.stats as ss"
   ]
  },
  {
   "cell_type": "code",
   "execution_count": 13,
   "id": "3b81ffe1-584a-4d50-b873-ff156acaae40",
   "metadata": {},
   "outputs": [
    {
     "data": {
      "text/plain": [
       "(inf, 0.028571428571428567)"
      ]
     },
     "execution_count": 13,
     "metadata": {},
     "output_type": "execute_result"
    }
   ],
   "source": [
    "# using the fisher_exact method from scipy\n",
    "ss.fisher_exact([[4,0],[0,4]])"
   ]
  },
  {
   "cell_type": "markdown",
   "id": "a17ea39a-28aa-480a-a717-f1cb32731ee1",
   "metadata": {},
   "source": [
    "<br>"
   ]
  },
  {
   "cell_type": "markdown",
   "id": "e6ec5bc3-df26-4a23-8d72-2d79ef79cd1c",
   "metadata": {},
   "source": [
    "According to https://docs.scipy.org/doc/scipy/reference/generated/scipy.stats.fisher_exact.html, the inf value in the result above is the odds ratio, with inf standing for infinite. The second value then is the probability of returning 4 correct choices from the 8 total cups. This value is almost exactly twice the probability that we calculated earlier (see below for reference)."
   ]
  },
  {
   "cell_type": "code",
   "execution_count": 14,
   "id": "1dbb60c0-2721-4822-8468-006e13320b3d",
   "metadata": {},
   "outputs": [
    {
     "data": {
      "text/plain": [
       "0.014285714285714285"
      ]
     },
     "execution_count": 14,
     "metadata": {},
     "output_type": "execute_result"
    }
   ],
   "source": [
    "# probability calculated in exercise 1.1\n",
    "1.0 / math.comb(8,4)"
   ]
  },
  {
   "cell_type": "markdown",
   "id": "73335f53-9a13-42da-9e0c-d3babade9015",
   "metadata": {},
   "source": [
    "However, the scipy documentation shows that we can add another parameter to this function:"
   ]
  },
  {
   "cell_type": "markdown",
   "id": "2d8ace57-63ca-4071-b977-f418f8ad894f",
   "metadata": {},
   "source": [
    "<i>Parameters  \n",
    "tablearray_like of ints  \n",
    "A 2x2 contingency table. Elements must be non-negative integers.  \n",
    "  \n",
    "<i><b>alternative</b>{‘two-sided’, ‘less’, ‘greater’}, optional  \n",
    "Defines the alternative hypothesis. The following options are available (default is ‘two-sided’):  \n",
    "  \n",
    "<i>‘two-sided’: the odds ratio of the underlying population is not one  \n",
    "  \n",
    "<i>‘less’: the odds ratio of the underlying population is less than one  \n",
    "  \n",
    "<i>‘greater’: the odds ratio of the underlying population is greater than one</i>"
   ]
  },
  {
   "cell_type": "markdown",
   "id": "4b2333a9-4968-4880-a8df-8b545d317f07",
   "metadata": {},
   "source": [
    "<br>"
   ]
  },
  {
   "cell_type": "markdown",
   "id": "932589a2-5504-4247-9e29-dae1dd0e79de",
   "metadata": {},
   "source": [
    "Our first test of this function returned an odds ratio of inf, and \"two-sided\" is the default, so lets try using the other two alternative parameters and see if we get the same answer as we did when we calculated the probability earlier."
   ]
  },
  {
   "cell_type": "code",
   "execution_count": 15,
   "id": "c67b4300-3f93-4808-87c0-079bde108fe6",
   "metadata": {},
   "outputs": [
    {
     "data": {
      "text/plain": [
       "(inf, 1.0)"
      ]
     },
     "execution_count": 15,
     "metadata": {},
     "output_type": "execute_result"
    }
   ],
   "source": [
    "# using alternative less\n",
    "ss.fisher_exact([[4,0],[0,4]], alternative='less')"
   ]
  },
  {
   "cell_type": "code",
   "execution_count": 16,
   "id": "4a5eb414-6640-4fbf-95e9-97107efbe74b",
   "metadata": {},
   "outputs": [
    {
     "data": {
      "text/plain": [
       "(inf, 0.014285714285714284)"
      ]
     },
     "execution_count": 16,
     "metadata": {},
     "output_type": "execute_result"
    }
   ],
   "source": [
    "# using alternative greater\n",
    "ss.fisher_exact([[4,0],[0,4]], alternative='greater')"
   ]
  },
  {
   "cell_type": "markdown",
   "id": "cf8680a3-0802-4ed8-afad-c8e994a8dd15",
   "metadata": {},
   "source": [
    "We can see that the third alternative option of \"greater\" gives us the same result as before, as according to the documentation this should be used when \"the odds ratio of the underlying population is greater than one\", and in this case the odds ratio is infinite."
   ]
  },
  {
   "cell_type": "markdown",
   "id": "2a28a620-c758-4301-9c2b-15ff6509ae2a",
   "metadata": {},
   "source": [
    "<br>"
   ]
  },
  {
   "cell_type": "markdown",
   "id": "e0ec748a-7dda-45f9-9b06-a8e3f811f150",
   "metadata": {},
   "source": [
    "# Exerise 1.3\n",
    "***\n",
    "\n",
    "Take the code from the <a href=\"https://docs.scipy.org/doc/scipy/reference/generated/scipy.stats.ttest_ind.html\" style=\"color: #ff791e\">Examples section of the scipy stats documentation for independent samples t-tests</a>, add it to your own notebook and add explain how it works using MarkDown cells and code comments. Improve it in any way you think it could be improved."
   ]
  },
  {
   "cell_type": "markdown",
   "id": "c4c62899-f06d-4559-b3f2-cc4ba0f813bb",
   "metadata": {},
   "source": [
    "For some background information, this is what the [official Scipy documentation](https://docs.scipy.org/doc/scipy/reference/generated/scipy.stats.ttest_ind.html) tells us about the scipy.stats.ttest_ind method:"
   ]
  },
  {
   "cell_type": "markdown",
   "id": "4673c0ad-1505-4bd6-85d2-67e8d788925f",
   "metadata": {},
   "source": [
    "### scipy.stats.ttest_ind\n",
    "scipy.stats.ttest_ind(a, b, axis=0, equal_var=True, nan_policy='propagate', permutations=None, random_state=None, alternative='two-sided', trim=0)  \n",
    "> Calculate the T-test for the means of two independent samples of scores.  \n",
    "> This is a test for the null hypothesis that 2 independent samples have identical average (expected) values. This test assumes that the populations have identical variances by default."
   ]
  },
  {
   "cell_type": "markdown",
   "id": "a73f85e1-abe1-4b2b-a492-8565b87d845d",
   "metadata": {},
   "source": [
    "**Parameters**\n",
    "> **a, b**: *array_like*  \n",
    "The arrays must have the same shape, except in the dimension corresponding to axis (the first, by default).\n",
    "\n",
    "> **axis**: *int or None, optional*  \n",
    "Axis along which to compute test. If None, compute over the whole arrays, a, and b.\n",
    "\n",
    "> **equal_var**: *bool, optional*  \n",
    "If True (default), perform a standard independent 2 sample test that assumes equal population variances [1]. If False, perform Welch’s t-test, which does not assume equal population variance [2].\n",
    "\n",
    "> **nan_policy**: *{‘propagate’, ‘raise’, ‘omit’}, optional*  \n",
    "Defines how to handle when input contains nan. The following options are available (default is ‘propagate’):  \n",
    "- ‘propagate’: returns nan  \n",
    "- ‘raise’: throws an error  \n",
    "- ‘omit’: performs the calculations ignoring nan values  \n",
    "\n",
    "The ‘omit’ option is not currently available for permutation tests or one-sided asympyotic tests.  \n",
    "\n",
    "> **permutations**: *non-negative int, np.inf, or None (default), optional*  \n",
    "If 0 or None (default), use the t-distribution to calculate p-values. Otherwise, permutations is the number of random permutations that will be used to estimate p-values using a permutation test. If permutations equals or exceeds the number of distinct partitions of the pooled data, an exact test is performed instead (i.e. each distinct partition is used exactly once). See Notes for details.  \n",
    "\n",
    "> **random_state**: *{None, int, numpy.random.Generator,numpy.random.RandomState}, optional*  \n",
    "\n",
    "If seed is None (or np.random), the numpy.random.RandomState singleton is used. If seed is an int, a new RandomState instance is used, seeded with seed. If seed is already a Generator or RandomState instance then that instance is used.  \n",
    "\n",
    "Pseudorandom number generator state used to generate permutations (used only when permutations is not None).  \n",
    "\n",
    "> **alternative**: *{‘two-sided’, ‘less’, ‘greater’}, optional*  \n",
    "Defines the alternative hypothesis. The following options are available (default is ‘two-sided’):  \n",
    "\n",
    "- ‘two-sided’: the means of the distributions underlying the samples are unequal.\n",
    "- ‘less’: the mean of the distribution underlying the first sample is less than the mean of the distribution underlying the second sample.\n",
    "- ‘greater’: the mean of the distribution underlying the first sample is greater than the mean of the distribution underlying the second sample.  \n",
    "\n",
    "> **trim**: *float, optional*  \n",
    "If nonzero, performs a trimmed (Yuen’s) t-test. Defines the fraction of elements to be trimmed from each end of the input samples. If 0 (default), no elements will be trimmed from either side. The number of trimmed elements from each tail is the floor of the trim times the number of elements. Valid range is [0, .5).\n"
   ]
  },
  {
   "cell_type": "markdown",
   "id": "edeb7a8c-1663-4f44-9f5e-2422b1189bf9",
   "metadata": {},
   "source": [
    "**Returns**  \n",
    "> **statistic**: *float or array*  \n",
    "The calculated t-statistic.\n",
    "\n",
    "> **pvalue**: *float or array*  \n",
    "The p-value."
   ]
  },
  {
   "cell_type": "markdown",
   "id": "b317f222-39ea-49a9-8d8f-766e64c77159",
   "metadata": {},
   "source": [
    "<br>\n",
    "Now lets look at the example provided in the Scipt Stats documentation.\n",
    "<br>"
   ]
  },
  {
   "cell_type": "code",
   "execution_count": 17,
   "id": "d3017ae3-1b3b-46cc-ae96-4617bff697c1",
   "metadata": {},
   "outputs": [],
   "source": [
    "from scipy import stats\n",
    "\n",
    "# in the doc, np is referenced but not explicitly imported, so lets import numpy here for numberical arrays\n",
    "import numpy as np\n",
    "\n",
    "rng = np.random.default_rng()"
   ]
  },
  {
   "cell_type": "code",
   "execution_count": 32,
   "id": "4df369bc-9e9b-41c8-9328-0cafc7f0d87a",
   "metadata": {},
   "outputs": [
    {
     "data": {
      "text/plain": [
       "Ttest_indResult(statistic=1.235402290693446, pvalue=0.21697155607436408)"
      ]
     },
     "execution_count": 32,
     "metadata": {},
     "output_type": "execute_result"
    }
   ],
   "source": [
    "# first, let's test with two random variate (RVS) samples that have the same mean value\n",
    "# note that in stats.norm.rvs loc = mean, scale = standard deviation and size is number of items (n)\n",
    "# https://docs.scipy.org/doc/scipy/reference/generated/scipy.stats.norm.html\n",
    "\n",
    "rvs1 = stats.norm.rvs(loc=5, scale=10, size=500, random_state=rng)\n",
    "rvs2 = stats.norm.rvs(loc=5, scale=10, size=500, random_state=rng)\n",
    "\n",
    "stats.ttest_ind(rvs1, rvs2)"
   ]
  },
  {
   "cell_type": "code",
   "execution_count": 34,
   "id": "516f5048-f776-43f1-9af2-e122a680b4c4",
   "metadata": {},
   "outputs": [
    {
     "data": {
      "text/plain": [
       "Ttest_indResult(statistic=1.235402290693446, pvalue=0.21697232503487235)"
      ]
     },
     "execution_count": 34,
     "metadata": {},
     "output_type": "execute_result"
    }
   ],
   "source": [
    "# adding the equal_var parameter with value False yields the same result, \n",
    "# as we know both samples have the same standard deviation (scale)\n",
    "stats.ttest_ind(rvs1, rvs2, equal_var=False)"
   ]
  },
  {
   "cell_type": "code",
   "execution_count": 36,
   "id": "cb4e132b-8f98-4ffa-936a-4c1276a73097",
   "metadata": {},
   "outputs": [
    {
     "data": {
      "text/plain": [
       "Ttest_indResult(statistic=1.5281406429427113, pvalue=0.12679448539841967)"
      ]
     },
     "execution_count": 36,
     "metadata": {},
     "output_type": "execute_result"
    }
   ],
   "source": [
    "# here we see that ttest_ind underestimates p for unequal variances \n",
    "# when we compare rvs1 to rvs3, which has a bigger scale value\n",
    "\n",
    "rvs3 = stats.norm.rvs(loc=5, scale=20, size=500, random_state=rng)\n",
    "stats.ttest_ind(rvs1, rvs3)"
   ]
  },
  {
   "cell_type": "code",
   "execution_count": 37,
   "id": "814d7bef-16f9-4dfe-a271-3cc65d6cae8f",
   "metadata": {},
   "outputs": [
    {
     "data": {
      "text/plain": [
       "Ttest_indResult(statistic=1.5281406429427113, pvalue=0.12691531452630825)"
      ]
     },
     "execution_count": 37,
     "metadata": {},
     "output_type": "execute_result"
    }
   ],
   "source": [
    "# this time we see some variation with equal_var parameter set to False\n",
    "stats.ttest_ind(rvs1, rvs3, equal_var=False)"
   ]
  },
  {
   "cell_type": "code",
   "execution_count": 39,
   "id": "10504d65-ae3e-4bfa-8bcd-71f1d39cf154",
   "metadata": {},
   "outputs": [
    {
     "data": {
      "text/plain": [
       "Ttest_indResult(statistic=2.2966550506407084, pvalue=0.021983224998175375)"
      ]
     },
     "execution_count": 39,
     "metadata": {},
     "output_type": "execute_result"
    }
   ],
   "source": [
    "# comparing rvs1 to rvs4 which has a bigger scale and smaller size shows us that\n",
    "# the equal variance t-statistic is no longer equal to the unequal variance t-statistic:\n",
    "rvs4 = stats.norm.rvs(loc=5, scale=20, size=100, random_state=rng)\n",
    "stats.ttest_ind(rvs1, rvs4)"
   ]
  },
  {
   "cell_type": "code",
   "execution_count": 40,
   "id": "8d15777c-cbe8-4658-a8d0-0c783d94d3a8",
   "metadata": {},
   "outputs": [
    {
     "data": {
      "text/plain": [
       "Ttest_indResult(statistic=1.6272490918108753, pvalue=0.10647739782355539)"
      ]
     },
     "execution_count": 40,
     "metadata": {},
     "output_type": "execute_result"
    }
   ],
   "source": [
    "# with equal_var set to False\n",
    "stats.ttest_ind(rvs1, rvs4, equal_var=False)"
   ]
  },
  {
   "cell_type": "code",
   "execution_count": 41,
   "id": "ddda8c51-a82b-4686-aa71-e09101ea1b2e",
   "metadata": {},
   "outputs": [
    {
     "data": {
      "text/plain": [
       "Ttest_indResult(statistic=-3.859151643848536, pvalue=0.00012615677886590375)"
      ]
     },
     "execution_count": 41,
     "metadata": {},
     "output_type": "execute_result"
    }
   ],
   "source": [
    "# and now, lets compare the T-test results when you have a different mean, variance, and size\n",
    "rvs5 = stats.norm.rvs(loc=8, scale=20, size=100, random_state=rng)\n",
    "stats.ttest_ind(rvs1, rvs5)"
   ]
  },
  {
   "cell_type": "code",
   "execution_count": 42,
   "id": "87ebdc90-6352-450e-9766-e7eefabc1727",
   "metadata": {},
   "outputs": [
    {
     "data": {
      "text/plain": [
       "Ttest_indResult(statistic=-2.410250662779644, pvalue=0.0176416769503117)"
      ]
     },
     "execution_count": 42,
     "metadata": {},
     "output_type": "execute_result"
    }
   ],
   "source": [
    "# # with equal_var set to False\n",
    "stats.ttest_ind(rvs1, rvs5, equal_var=False)"
   ]
  }
 ],
 "metadata": {
  "kernelspec": {
   "display_name": "Python 3",
   "language": "python",
   "name": "python3"
  },
  "language_info": {
   "codemirror_mode": {
    "name": "ipython",
    "version": 3
   },
   "file_extension": ".py",
   "mimetype": "text/x-python",
   "name": "python",
   "nbconvert_exporter": "python",
   "pygments_lexer": "ipython3",
   "version": "3.8.8"
  }
 },
 "nbformat": 4,
 "nbformat_minor": 5
}
