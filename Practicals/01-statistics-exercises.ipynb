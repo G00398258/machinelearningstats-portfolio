{
 "cells": [
  {
   "cell_type": "markdown",
   "id": "86f02814-4818-49d2-9763-f547fe76c750",
   "metadata": {},
   "source": [
    "<h3 style=\"color: #001a79;\">Exercise 1.1</h3>\n",
    "\n",
    "<hr style=\"border-top: 1px solid #001a79;\" />\n",
    "\n",
    "The above gives about a 1.5% chance of randomly selecting the correct cups. Calculate the minimum number of cups of tea required to ensure the probability of randomly selecting the correct cups is less than or equal to 1%."
   ]
  },
  {
   "cell_type": "code",
   "execution_count": 1,
   "id": "30e64244-d0b9-49c4-848e-ea1e72a89883",
   "metadata": {},
   "outputs": [],
   "source": [
    "# importing math and comb modules\n",
    "import math\n",
    "from math import comb"
   ]
  },
  {
   "cell_type": "code",
   "execution_count": 2,
   "id": "3b2d88f7-f953-43ca-b8cb-c8a2cc7eacda",
   "metadata": {},
   "outputs": [
    {
     "data": {
      "text/plain": [
       "70"
      ]
     },
     "execution_count": 2,
     "metadata": {},
     "output_type": "execute_result"
    }
   ],
   "source": [
    "# we saw in Ian's example that there are 70 different combinations for selecting the correct cups\n",
    "math.comb(8,4)"
   ]
  },
  {
   "cell_type": "code",
   "execution_count": 3,
   "id": "198f1b6a-2021-4146-9f9e-4e734515acfe",
   "metadata": {},
   "outputs": [
    {
     "data": {
      "text/plain": [
       "0.014285714285714285"
      ]
     },
     "execution_count": 3,
     "metadata": {},
     "output_type": "execute_result"
    }
   ],
   "source": [
    "# that gives a probability of\n",
    "1.0 / math.comb(8,4)"
   ]
  },
  {
   "cell_type": "code",
   "execution_count": 4,
   "id": "69ec9160-5426-44da-aea0-7f346b503395",
   "metadata": {},
   "outputs": [
    {
     "data": {
      "text/plain": [
       "126"
      ]
     },
     "execution_count": 4,
     "metadata": {},
     "output_type": "execute_result"
    }
   ],
   "source": [
    "# so lets try increasing the number of cups to 9 and keeping the required correct answers to 4 & see the result\n",
    "math.comb(9,4)"
   ]
  },
  {
   "cell_type": "code",
   "execution_count": 5,
   "id": "fbcd6c7b-3510-4680-9459-47a6a4c59bb0",
   "metadata": {},
   "outputs": [
    {
     "data": {
      "text/plain": [
       "0.007936507936507936"
      ]
     },
     "execution_count": 5,
     "metadata": {},
     "output_type": "execute_result"
    }
   ],
   "source": [
    "# that gives us 126 different combinations, and the probabily of the tester selecting the correct cups would be\n",
    "1.0 / math.comb(9,4)"
   ]
  },
  {
   "cell_type": "markdown",
   "id": "1f114680-3a45-449b-be61-35727be5d16e",
   "metadata": {},
   "source": [
    "Therefore, having 9 cups of tea in this experiment would ensure that the probability of randomly selecting the correct cups is less than or equal to 1% (0.7 % in this case)."
   ]
  },
  {
   "cell_type": "markdown",
   "id": "ad9884f5-31e0-48fd-9585-2074338e79e4",
   "metadata": {},
   "source": [
    "<br>"
   ]
  },
  {
   "cell_type": "markdown",
   "id": "974d2e5c-9378-4c01-b856-b143ad5a72b1",
   "metadata": {},
   "source": [
    "*Bonus:* How many would be required if you were to let the taster get one cup wrong while maintaining the 1% threshold?"
   ]
  },
  {
   "cell_type": "markdown",
   "id": "dc2a2b4f-555c-495e-badc-6612a33e7dd2",
   "metadata": {},
   "source": [
    "We saw in this week's lecture that when the total number of cups is 8, the probability of the tester getting 3 out of 4 cups correct is approximately 20%."
   ]
  },
  {
   "cell_type": "markdown",
   "id": "6d90af78-a5ed-485c-903c-6dce761aa9d1",
   "metadata": {},
   "source": [
    "Above, we also saw that having 9 cups and requiring 4 to be correct would yield a possibility that is less than or equal to 1%. Let's try increasing the total number of cups & requiring 3 correct answers to see what the probability would be."
   ]
  },
  {
   "cell_type": "code",
   "execution_count": 17,
   "id": "492a7fd0-e0a4-4039-95de-3767e72cf605",
   "metadata": {},
   "outputs": [
    {
     "data": {
      "text/plain": [
       "220"
      ]
     },
     "execution_count": 17,
     "metadata": {},
     "output_type": "execute_result"
    }
   ],
   "source": [
    "# lets try 12 total cups, requiring 3 correct answers and see what we get\n",
    "math.comb(12,3)"
   ]
  },
  {
   "cell_type": "code",
   "execution_count": 19,
   "id": "182160f8-390f-40ee-9302-38ebe31e90d7",
   "metadata": {},
   "outputs": [
    {
     "data": {
      "text/plain": [
       "0.004545454545454545"
      ]
     },
     "execution_count": 19,
     "metadata": {},
     "output_type": "execute_result"
    }
   ],
   "source": [
    "# the probability in this case is\n",
    "1 / math.comb(12,3)"
   ]
  },
  {
   "cell_type": "markdown",
   "id": "b8ee9b11-933c-4541-a822-36485794c9d4",
   "metadata": {},
   "source": [
    "So a total of 12 cups requiring 3 correct answers would be below the 1% threshold, but let's chack it we can reduce the number of cups any further."
   ]
  },
  {
   "cell_type": "code",
   "execution_count": 20,
   "id": "b21eb9e9-8718-41d3-a5bd-a6874410f7ff",
   "metadata": {},
   "outputs": [
    {
     "data": {
      "text/plain": [
       "165"
      ]
     },
     "execution_count": 20,
     "metadata": {},
     "output_type": "execute_result"
    }
   ],
   "source": [
    "# lets try 11 cups\n",
    "math.comb(11,3)"
   ]
  },
  {
   "cell_type": "code",
   "execution_count": 21,
   "id": "097c987e-544e-4a0c-b5d2-3ac474288fba",
   "metadata": {},
   "outputs": [
    {
     "data": {
      "text/plain": [
       "0.006060606060606061"
      ]
     },
     "execution_count": 21,
     "metadata": {},
     "output_type": "execute_result"
    }
   ],
   "source": [
    "# and now the probability is\n",
    "1 / math.comb(11,3)"
   ]
  },
  {
   "cell_type": "code",
   "execution_count": 22,
   "id": "6135051b-2d1d-4b19-9574-cc1f6e10643d",
   "metadata": {},
   "outputs": [
    {
     "data": {
      "text/plain": [
       "120"
      ]
     },
     "execution_count": 22,
     "metadata": {},
     "output_type": "execute_result"
    }
   ],
   "source": [
    "# still < 1% - lets try reducing the number of cups once more\n",
    "math.comb(10,3)"
   ]
  },
  {
   "cell_type": "code",
   "execution_count": 25,
   "id": "eca348f4-44eb-4aa0-88b9-5de7ed68fca7",
   "metadata": {},
   "outputs": [
    {
     "data": {
      "text/plain": [
       "0.008333333333333333"
      ]
     },
     "execution_count": 25,
     "metadata": {},
     "output_type": "execute_result"
    }
   ],
   "source": [
    "# with a probability of\n",
    "1 / math.comb(10,3)"
   ]
  },
  {
   "cell_type": "markdown",
   "id": "b40dd2e0-5681-4e99-9a31-3c9d7da5a3dd",
   "metadata": {},
   "source": [
    "So by reducing the number of cups again, we can see that with a total of 10 cups, the probability of having 3 correct answers would be under the 1% threshold."
   ]
  }
 ],
 "metadata": {
  "kernelspec": {
   "display_name": "Python 3",
   "language": "python",
   "name": "python3"
  },
  "language_info": {
   "codemirror_mode": {
    "name": "ipython",
    "version": 3
   },
   "file_extension": ".py",
   "mimetype": "text/x-python",
   "name": "python",
   "nbconvert_exporter": "python",
   "pygments_lexer": "ipython3",
   "version": "3.8.8"
  }
 },
 "nbformat": 4,
 "nbformat_minor": 5
}
