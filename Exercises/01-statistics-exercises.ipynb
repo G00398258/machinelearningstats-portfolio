{
 "cells": [
  {
   "cell_type": "markdown",
   "id": "aafafa26-826c-48b4-9a90-05cb14ab0f17",
   "metadata": {},
   "source": [
    "# Statistics Exercises"
   ]
  },
  {
   "cell_type": "markdown",
   "id": "ffd48d2a-486c-459c-9649-712711005323",
   "metadata": {},
   "source": [
    "<img src=\"data:image/jpeg;base64,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\" alt=\"Statistics\">"
   ]
  },
  {
   "cell_type": "markdown",
   "id": "86f02814-4818-49d2-9763-f547fe76c750",
   "metadata": {},
   "source": [
    "*Image Source: [United Nations Statistics Division](https://www.google.com/imgres?imgurl=https%3A%2F%2Funstats.un.org%2Funsd%2Fbusiness-stat%2Fassets%2Fimg%2Fsliders%2Fstock-3.jpg&imgrefurl=https%3A%2F%2Funstats.un.org%2Funsd%2Fbusiness-stat%2F&tbnid=E-097ptVqOgcvM&vet=12ahUKEwjTi5yPk6f8AhXPM8AKHX2JAHQQMygTegUIARCLAg..i&docid=TyBz0mntiVXdSM&w=703&h=300&q=statistics%20images&ved=2ahUKEwjTi5yPk6f8AhXPM8AKHX2JAHQQMygTegUIARCLAg)*\n",
    "***\n",
    "## Exercise 1.1\n",
    "\n",
    "__*The above (example from [Ian's notebook](https://github.com/ianmcloughlin/2223-S1-machine-learn-stats/blob/main/notebooks/01-statistics.ipynb) gives about a 1.5% chance of randomly selecting the correct cups. Calculate the minimum number of cups of tea required to ensure the probability of randomly selecting the correct cups is less than or equal to 1%.*__"
   ]
  },
  {
   "cell_type": "code",
   "execution_count": 1,
   "id": "30e64244-d0b9-49c4-848e-ea1e72a89883",
   "metadata": {},
   "outputs": [],
   "source": [
    "# importing math and comb modules\n",
    "import math\n",
    "from math import comb"
   ]
  },
  {
   "cell_type": "code",
   "execution_count": 2,
   "id": "3b2d88f7-f953-43ca-b8cb-c8a2cc7eacda",
   "metadata": {
    "tags": []
   },
   "outputs": [
    {
     "data": {
      "text/plain": [
       "70"
      ]
     },
     "execution_count": 2,
     "metadata": {},
     "output_type": "execute_result"
    }
   ],
   "source": [
    "# we saw in Ian's example that there are 70 different combinations for selecting the correct cups\n",
    "math.comb(8,4)"
   ]
  },
  {
   "cell_type": "code",
   "execution_count": 3,
   "id": "198f1b6a-2021-4146-9f9e-4e734515acfe",
   "metadata": {},
   "outputs": [
    {
     "data": {
      "text/plain": [
       "0.014285714285714285"
      ]
     },
     "execution_count": 3,
     "metadata": {},
     "output_type": "execute_result"
    }
   ],
   "source": [
    "# that gives a probability of\n",
    "1.0 / math.comb(8,4)"
   ]
  },
  {
   "cell_type": "code",
   "execution_count": 4,
   "id": "69ec9160-5426-44da-aea0-7f346b503395",
   "metadata": {},
   "outputs": [
    {
     "data": {
      "text/plain": [
       "126"
      ]
     },
     "execution_count": 4,
     "metadata": {},
     "output_type": "execute_result"
    }
   ],
   "source": [
    "# so lets try increasing the number of cups to 9 and keeping the required correct answers to 4 & see the result\n",
    "math.comb(9,4)"
   ]
  },
  {
   "cell_type": "code",
   "execution_count": 5,
   "id": "fbcd6c7b-3510-4680-9459-47a6a4c59bb0",
   "metadata": {},
   "outputs": [
    {
     "data": {
      "text/plain": [
       "0.007936507936507936"
      ]
     },
     "execution_count": 5,
     "metadata": {},
     "output_type": "execute_result"
    }
   ],
   "source": [
    "# that gives us 126 different combinations, and the probabily of the tester selecting the correct cups would be\n",
    "1.0 / math.comb(9,4)"
   ]
  },
  {
   "cell_type": "markdown",
   "id": "1f114680-3a45-449b-be61-35727be5d16e",
   "metadata": {},
   "source": [
    "Therefore, having 9 cups of tea in this experiment would ensure that the probability of randomly selecting the correct cups is less than or equal to 1% (0.7 % in this case)."
   ]
  },
  {
   "cell_type": "markdown",
   "id": "ad9884f5-31e0-48fd-9585-2074338e79e4",
   "metadata": {},
   "source": [
    "<br>"
   ]
  },
  {
   "cell_type": "markdown",
   "id": "974d2e5c-9378-4c01-b856-b143ad5a72b1",
   "metadata": {},
   "source": [
    "__*BONUS: How many would be required if you were to let the taster get one cup wrong while maintaining the 1% threshold?*__"
   ]
  },
  {
   "cell_type": "markdown",
   "id": "dc2a2b4f-555c-495e-badc-6612a33e7dd2",
   "metadata": {},
   "source": [
    "We saw in this week's lecture that when the total number of cups is 8, the probability of the tester getting 3 out of 4 cups correct is approximately 20%."
   ]
  },
  {
   "cell_type": "markdown",
   "id": "6d90af78-a5ed-485c-903c-6dce761aa9d1",
   "metadata": {},
   "source": [
    "Above, we also saw that having 9 cups and requiring 4 to be correct would yield a possibility that is less than or equal to 1%. Let's try increasing the total number of cups & requiring 3 correct answers to see what the probability would be."
   ]
  },
  {
   "cell_type": "code",
   "execution_count": 6,
   "id": "492a7fd0-e0a4-4039-95de-3767e72cf605",
   "metadata": {},
   "outputs": [
    {
     "data": {
      "text/plain": [
       "220"
      ]
     },
     "execution_count": 6,
     "metadata": {},
     "output_type": "execute_result"
    }
   ],
   "source": [
    "# lets try 12 total cups, requiring 3 correct answers and see what we get\n",
    "math.comb(12,3)"
   ]
  },
  {
   "cell_type": "code",
   "execution_count": 7,
   "id": "182160f8-390f-40ee-9302-38ebe31e90d7",
   "metadata": {},
   "outputs": [
    {
     "data": {
      "text/plain": [
       "0.004545454545454545"
      ]
     },
     "execution_count": 7,
     "metadata": {},
     "output_type": "execute_result"
    }
   ],
   "source": [
    "# the probability in this case is\n",
    "1 / math.comb(12,3)"
   ]
  },
  {
   "cell_type": "markdown",
   "id": "b8ee9b11-933c-4541-a822-36485794c9d4",
   "metadata": {},
   "source": [
    "So a total of 12 cups requiring 3 correct answers would be below the 1% threshold, but let's chack it we can reduce the number of cups any further."
   ]
  },
  {
   "cell_type": "code",
   "execution_count": 8,
   "id": "b21eb9e9-8718-41d3-a5bd-a6874410f7ff",
   "metadata": {},
   "outputs": [
    {
     "data": {
      "text/plain": [
       "165"
      ]
     },
     "execution_count": 8,
     "metadata": {},
     "output_type": "execute_result"
    }
   ],
   "source": [
    "# lets try 11 cups\n",
    "math.comb(11,3)"
   ]
  },
  {
   "cell_type": "code",
   "execution_count": 9,
   "id": "097c987e-544e-4a0c-b5d2-3ac474288fba",
   "metadata": {},
   "outputs": [
    {
     "data": {
      "text/plain": [
       "0.006060606060606061"
      ]
     },
     "execution_count": 9,
     "metadata": {},
     "output_type": "execute_result"
    }
   ],
   "source": [
    "# and now the probability is\n",
    "1 / math.comb(11,3)"
   ]
  },
  {
   "cell_type": "code",
   "execution_count": 10,
   "id": "6135051b-2d1d-4b19-9574-cc1f6e10643d",
   "metadata": {},
   "outputs": [
    {
     "data": {
      "text/plain": [
       "120"
      ]
     },
     "execution_count": 10,
     "metadata": {},
     "output_type": "execute_result"
    }
   ],
   "source": [
    "# still < 1% - lets try reducing the number of cups once more\n",
    "math.comb(10,3)"
   ]
  },
  {
   "cell_type": "code",
   "execution_count": 11,
   "id": "eca348f4-44eb-4aa0-88b9-5de7ed68fca7",
   "metadata": {},
   "outputs": [
    {
     "data": {
      "text/plain": [
       "0.008333333333333333"
      ]
     },
     "execution_count": 11,
     "metadata": {},
     "output_type": "execute_result"
    }
   ],
   "source": [
    "# with a probability of\n",
    "1 / math.comb(10,3)"
   ]
  },
  {
   "cell_type": "markdown",
   "id": "b40dd2e0-5681-4e99-9a31-3c9d7da5a3dd",
   "metadata": {},
   "source": [
    "So by reducing the number of cups again, we can see that with a total of 10 cups, the probability of having 3 correct answers would be under the 1% threshold."
   ]
  },
  {
   "cell_type": "markdown",
   "id": "d6f5ebb6-bc7e-40e1-bb0d-601df4941d68",
   "metadata": {},
   "source": [
    "<br>"
   ]
  },
  {
   "cell_type": "markdown",
   "id": "016604cd-8b21-460a-b3d9-bee89c5a162f",
   "metadata": {},
   "source": [
    "***\n",
    "## Exerise 1.2"
   ]
  },
  {
   "cell_type": "markdown",
   "id": "0296a75c-9334-40ee-8f75-fb708314ad15",
   "metadata": {},
   "source": [
    "__*Use scipy's version of Fisher's exact test to simulate the Lady Tasting Tea problem.*__"
   ]
  },
  {
   "cell_type": "code",
   "execution_count": 12,
   "id": "4c97b46d-2e8e-4a3f-a841-b1f524090e81",
   "metadata": {},
   "outputs": [],
   "source": [
    "import scipy.stats as ss"
   ]
  },
  {
   "cell_type": "code",
   "execution_count": 13,
   "id": "3b81ffe1-584a-4d50-b873-ff156acaae40",
   "metadata": {},
   "outputs": [
    {
     "data": {
      "text/plain": [
       "(inf, 0.028571428571428567)"
      ]
     },
     "execution_count": 13,
     "metadata": {},
     "output_type": "execute_result"
    }
   ],
   "source": [
    "# using the fisher_exact method from scipy\n",
    "ss.fisher_exact([[4,0],[0,4]])"
   ]
  },
  {
   "cell_type": "markdown",
   "id": "a17ea39a-28aa-480a-a717-f1cb32731ee1",
   "metadata": {},
   "source": [
    "<br>"
   ]
  },
  {
   "cell_type": "markdown",
   "id": "e6ec5bc3-df26-4a23-8d72-2d79ef79cd1c",
   "metadata": {},
   "source": [
    "According to https://docs.scipy.org/doc/scipy/reference/generated/scipy.stats.fisher_exact.html, the inf value in the result above is the odds ratio, with inf standing for infinite. The second value then is the probability of returning 4 correct choices from the 8 total cups. This value is almost exactly twice the probability that we calculated earlier (see below for reference)."
   ]
  },
  {
   "cell_type": "code",
   "execution_count": 14,
   "id": "1dbb60c0-2721-4822-8468-006e13320b3d",
   "metadata": {},
   "outputs": [
    {
     "data": {
      "text/plain": [
       "0.014285714285714285"
      ]
     },
     "execution_count": 14,
     "metadata": {},
     "output_type": "execute_result"
    }
   ],
   "source": [
    "# probability calculated in exercise 1.1\n",
    "1.0 / math.comb(8,4)"
   ]
  },
  {
   "cell_type": "markdown",
   "id": "73335f53-9a13-42da-9e0c-d3babade9015",
   "metadata": {},
   "source": [
    "However, the scipy documentation shows that we can add another parameter to this function:"
   ]
  },
  {
   "cell_type": "markdown",
   "id": "2d8ace57-63ca-4071-b977-f418f8ad894f",
   "metadata": {},
   "source": [
    "<i>Parameters  \n",
    "tablearray_like of ints  \n",
    "A 2x2 contingency table. Elements must be non-negative integers.  \n",
    "  \n",
    "<i><b>alternative</b> {‘two-sided’, ‘less’, ‘greater’}, optional  \n",
    "Defines the alternative hypothesis. The following options are available (default is ‘two-sided’):  \n",
    "  \n",
    "<i>‘two-sided’: the odds ratio of the underlying population is not one  \n",
    "  \n",
    "<i>‘less’: the odds ratio of the underlying population is less than one  \n",
    "  \n",
    "<i>‘greater’: the odds ratio of the underlying population is greater than one</i>"
   ]
  },
  {
   "cell_type": "markdown",
   "id": "4b2333a9-4968-4880-a8df-8b545d317f07",
   "metadata": {},
   "source": [
    "<br>"
   ]
  },
  {
   "cell_type": "markdown",
   "id": "932589a2-5504-4247-9e29-dae1dd0e79de",
   "metadata": {},
   "source": [
    "Our first test of this function returned an odds ratio of inf, and \"two-sided\" is the default, so lets try using the other two alternative parameters and see if we get the same answer as we did when we calculated the probability earlier."
   ]
  },
  {
   "cell_type": "code",
   "execution_count": 15,
   "id": "c67b4300-3f93-4808-87c0-079bde108fe6",
   "metadata": {},
   "outputs": [
    {
     "data": {
      "text/plain": [
       "(inf, 1.0)"
      ]
     },
     "execution_count": 15,
     "metadata": {},
     "output_type": "execute_result"
    }
   ],
   "source": [
    "# using alternative less\n",
    "ss.fisher_exact([[4,0],[0,4]], alternative='less')"
   ]
  },
  {
   "cell_type": "code",
   "execution_count": 16,
   "id": "4a5eb414-6640-4fbf-95e9-97107efbe74b",
   "metadata": {},
   "outputs": [
    {
     "data": {
      "text/plain": [
       "(inf, 0.014285714285714284)"
      ]
     },
     "execution_count": 16,
     "metadata": {},
     "output_type": "execute_result"
    }
   ],
   "source": [
    "# using alternative greater\n",
    "ss.fisher_exact([[4,0],[0,4]], alternative='greater')"
   ]
  },
  {
   "cell_type": "markdown",
   "id": "cf8680a3-0802-4ed8-afad-c8e994a8dd15",
   "metadata": {},
   "source": [
    "We can see that the third alternative option of \"greater\" gives us the same result as before, as according to the documentation this should be used when \"the odds ratio of the underlying population is greater than one\", and in this case the odds ratio is infinite."
   ]
  },
  {
   "cell_type": "markdown",
   "id": "2a28a620-c758-4301-9c2b-15ff6509ae2a",
   "metadata": {},
   "source": [
    "<br>"
   ]
  },
  {
   "cell_type": "markdown",
   "id": "e0ec748a-7dda-45f9-9b06-a8e3f811f150",
   "metadata": {},
   "source": [
    "***\n",
    "## Exerise 1.3\n",
    "\n",
    "__*Take the code from the <a href=\"https://docs.scipy.org/doc/scipy/reference/generated/scipy.stats.ttest_ind.html\" style=\"color: #ff791e\">Examples section of the scipy stats documentation for independent samples t-tests</a>, add it to your own notebook and add explain how it works using MarkDown cells and code comments. Improve it in any way you think it could be improved.*__"
   ]
  },
  {
   "cell_type": "markdown",
   "id": "c4c62899-f06d-4559-b3f2-cc4ba0f813bb",
   "metadata": {},
   "source": [
    "For some background information, this is what the [official Scipy documentation](https://docs.scipy.org/doc/scipy/reference/generated/scipy.stats.ttest_ind.html) tells us about the scipy.stats.ttest_ind method:"
   ]
  },
  {
   "cell_type": "markdown",
   "id": "4673c0ad-1505-4bd6-85d2-67e8d788925f",
   "metadata": {},
   "source": [
    "### scipy.stats.ttest_ind\n",
    "scipy.stats.ttest_ind(a, b, axis=0, equal_var=True, nan_policy='propagate', permutations=None, random_state=None, alternative='two-sided', trim=0)  \n",
    "> Calculate the T-test for the means of two independent samples of scores.  \n",
    "> This is a test for the null hypothesis that 2 independent samples have identical average (expected) values. This test assumes that the populations have identical variances by default."
   ]
  },
  {
   "cell_type": "markdown",
   "id": "a73f85e1-abe1-4b2b-a492-8565b87d845d",
   "metadata": {},
   "source": [
    "**Parameters**\n",
    "> **a, b**: *array_like*  \n",
    "The arrays must have the same shape, except in the dimension corresponding to axis (the first, by default).\n",
    "\n",
    "> **axis**: *int or None, optional*  \n",
    "Axis along which to compute test. If None, compute over the whole arrays, a, and b.\n",
    "\n",
    "> **equal_var**: *bool, optional*  \n",
    "If True (default), perform a standard independent 2 sample test that assumes equal population variances [1]. If False, perform Welch’s t-test, which does not assume equal population variance [2].\n",
    "\n",
    "> **nan_policy**: *{‘propagate’, ‘raise’, ‘omit’}, optional*  \n",
    "Defines how to handle when input contains nan. The following options are available (default is ‘propagate’):  \n",
    "- ‘propagate’: returns nan  \n",
    "- ‘raise’: throws an error  \n",
    "- ‘omit’: performs the calculations ignoring nan values  \n",
    "\n",
    "The ‘omit’ option is not currently available for permutation tests or one-sided asympyotic tests.  \n",
    "\n",
    "> **permutations**: *non-negative int, np.inf, or None (default), optional*  \n",
    "If 0 or None (default), use the t-distribution to calculate p-values. Otherwise, permutations is the number of random permutations that will be used to estimate p-values using a permutation test. If permutations equals or exceeds the number of distinct partitions of the pooled data, an exact test is performed instead (i.e. each distinct partition is used exactly once). See Notes for details.  \n",
    "\n",
    "> **random_state**: *{None, int, numpy.random.Generator,numpy.random.RandomState}, optional*  \n",
    "\n",
    "If seed is None (or np.random), the numpy.random.RandomState singleton is used. If seed is an int, a new RandomState instance is used, seeded with seed. If seed is already a Generator or RandomState instance then that instance is used.  \n",
    "\n",
    "Pseudorandom number generator state used to generate permutations (used only when permutations is not None).  \n",
    "\n",
    "> **alternative**: *{‘two-sided’, ‘less’, ‘greater’}, optional*  \n",
    "Defines the alternative hypothesis. The following options are available (default is ‘two-sided’):  \n",
    "\n",
    "- ‘two-sided’: the means of the distributions underlying the samples are unequal.\n",
    "- ‘less’: the mean of the distribution underlying the first sample is less than the mean of the distribution underlying the second sample.\n",
    "- ‘greater’: the mean of the distribution underlying the first sample is greater than the mean of the distribution underlying the second sample.  \n",
    "\n",
    "> **trim**: *float, optional*  \n",
    "If nonzero, performs a trimmed (Yuen’s) t-test. Defines the fraction of elements to be trimmed from each end of the input samples. If 0 (default), no elements will be trimmed from either side. The number of trimmed elements from each tail is the floor of the trim times the number of elements. Valid range is [0, .5).\n"
   ]
  },
  {
   "cell_type": "markdown",
   "id": "edeb7a8c-1663-4f44-9f5e-2422b1189bf9",
   "metadata": {},
   "source": [
    "**Returns**  \n",
    "> **statistic**: *float or array*  \n",
    "The calculated t-statistic.\n",
    "\n",
    "> **pvalue**: *float or array*  \n",
    "The p-value."
   ]
  },
  {
   "cell_type": "markdown",
   "id": "b317f222-39ea-49a9-8d8f-766e64c77159",
   "metadata": {},
   "source": [
    "<br>\n",
    "Now lets look at the example provided in the Scipt Stats documentation."
   ]
  },
  {
   "cell_type": "code",
   "execution_count": 17,
   "id": "d3017ae3-1b3b-46cc-ae96-4617bff697c1",
   "metadata": {},
   "outputs": [],
   "source": [
    "from scipy import stats\n",
    "\n",
    "# in the doc, np is referenced but not explicitly imported, so lets import numpy here for numerical arrays\n",
    "import numpy as np\n",
    "\n",
    "rng = np.random.default_rng()"
   ]
  },
  {
   "cell_type": "code",
   "execution_count": 18,
   "id": "4df369bc-9e9b-41c8-9328-0cafc7f0d87a",
   "metadata": {},
   "outputs": [
    {
     "data": {
      "text/plain": [
       "Ttest_indResult(statistic=1.4246850593665514, pvalue=0.15456088291233203)"
      ]
     },
     "execution_count": 18,
     "metadata": {},
     "output_type": "execute_result"
    }
   ],
   "source": [
    "# first, let's test with two random variate (RVS) samples that have the same mean value\n",
    "# note that in stats.norm.rvs loc = mean, scale = standard deviation and size is number of values (n)\n",
    "# https://docs.scipy.org/doc/scipy/reference/generated/scipy.stats.norm.html\n",
    "\n",
    "rvs1 = stats.norm.rvs(loc=5, scale=10, size=500, random_state=rng)\n",
    "rvs2 = stats.norm.rvs(loc=5, scale=10, size=500, random_state=rng)\n",
    "\n",
    "stats.ttest_ind(rvs1, rvs2)"
   ]
  },
  {
   "cell_type": "code",
   "execution_count": 19,
   "id": "516f5048-f776-43f1-9af2-e122a680b4c4",
   "metadata": {},
   "outputs": [
    {
     "data": {
      "text/plain": [
       "Ttest_indResult(statistic=1.4246850593665514, pvalue=0.15456126182390742)"
      ]
     },
     "execution_count": 19,
     "metadata": {},
     "output_type": "execute_result"
    }
   ],
   "source": [
    "# adding the equal_var parameter with value False yields the same result, \n",
    "# as we know both samples have the same standard deviation (scale)\n",
    "stats.ttest_ind(rvs1, rvs2, equal_var=False)"
   ]
  },
  {
   "cell_type": "code",
   "execution_count": 20,
   "id": "cb4e132b-8f98-4ffa-936a-4c1276a73097",
   "metadata": {},
   "outputs": [
    {
     "data": {
      "text/plain": [
       "Ttest_indResult(statistic=0.12629187861522934, pvalue=0.899526322460332)"
      ]
     },
     "execution_count": 20,
     "metadata": {},
     "output_type": "execute_result"
    }
   ],
   "source": [
    "# here we see that ttest_ind underestimates p for unequal variances \n",
    "# when we compare rvs1 to rvs3, which has a bigger scale value\n",
    "\n",
    "rvs3 = stats.norm.rvs(loc=5, scale=20, size=500, random_state=rng)\n",
    "stats.ttest_ind(rvs1, rvs3)"
   ]
  },
  {
   "cell_type": "code",
   "execution_count": 21,
   "id": "814d7bef-16f9-4dfe-a271-3cc65d6cae8f",
   "metadata": {},
   "outputs": [
    {
     "data": {
      "text/plain": [
       "Ttest_indResult(statistic=0.12629187861522934, pvalue=0.8995350235958872)"
      ]
     },
     "execution_count": 21,
     "metadata": {},
     "output_type": "execute_result"
    }
   ],
   "source": [
    "# this time we see some variation with equal_var parameter set to False\n",
    "stats.ttest_ind(rvs1, rvs3, equal_var=False)"
   ]
  },
  {
   "cell_type": "code",
   "execution_count": 22,
   "id": "10504d65-ae3e-4bfa-8bcd-71f1d39cf154",
   "metadata": {},
   "outputs": [
    {
     "data": {
      "text/plain": [
       "Ttest_indResult(statistic=-0.07222354834246138, pvalue=0.9424481539101189)"
      ]
     },
     "execution_count": 22,
     "metadata": {},
     "output_type": "execute_result"
    }
   ],
   "source": [
    "# comparing rvs1 to rvs4 which has a bigger scale and smaller size shows us that\n",
    "# the equal variance t-statistic is no longer equal to the unequal variance t-statistic\n",
    "rvs4 = stats.norm.rvs(loc=5, scale=20, size=100, random_state=rng)\n",
    "stats.ttest_ind(rvs1, rvs4)"
   ]
  },
  {
   "cell_type": "code",
   "execution_count": 23,
   "id": "8d15777c-cbe8-4658-a8d0-0c783d94d3a8",
   "metadata": {},
   "outputs": [
    {
     "data": {
      "text/plain": [
       "Ttest_indResult(statistic=-0.047832427762468044, pvalue=0.9619368348426929)"
      ]
     },
     "execution_count": 23,
     "metadata": {},
     "output_type": "execute_result"
    }
   ],
   "source": [
    "# with equal_var set to False\n",
    "stats.ttest_ind(rvs1, rvs4, equal_var=False)"
   ]
  },
  {
   "cell_type": "code",
   "execution_count": 24,
   "id": "ddda8c51-a82b-4686-aa71-e09101ea1b2e",
   "metadata": {},
   "outputs": [
    {
     "data": {
      "text/plain": [
       "Ttest_indResult(statistic=-4.100704642419457, pvalue=4.689030643761706e-05)"
      ]
     },
     "execution_count": 24,
     "metadata": {},
     "output_type": "execute_result"
    }
   ],
   "source": [
    "# finally, lets compare the T-test results when you have a different mean, variance, and size\n",
    "rvs5 = stats.norm.rvs(loc=8, scale=20, size=100, random_state=rng)\n",
    "stats.ttest_ind(rvs1, rvs5)"
   ]
  },
  {
   "cell_type": "code",
   "execution_count": 25,
   "id": "87ebdc90-6352-450e-9766-e7eefabc1727",
   "metadata": {},
   "outputs": [
    {
     "data": {
      "text/plain": [
       "Ttest_indResult(statistic=-2.680381236866798, pvalue=0.008494731992979789)"
      ]
     },
     "execution_count": 25,
     "metadata": {},
     "output_type": "execute_result"
    }
   ],
   "source": [
    "# with equal_var set to False\n",
    "stats.ttest_ind(rvs1, rvs5, equal_var=False)"
   ]
  },
  {
   "cell_type": "code",
   "execution_count": 26,
   "id": "7a6617b6-7a51-44a1-a1dc-c39c0542c48e",
   "metadata": {},
   "outputs": [
    {
     "data": {
      "text/plain": [
       "Ttest_indResult(statistic=2.317001862534046, pvalue=0.020658626901925572)"
      ]
     },
     "execution_count": 26,
     "metadata": {},
     "output_type": "execute_result"
    }
   ],
   "source": [
    "# this wasn't explored in the documentation, but what if you had two samples \n",
    "# with same mean and variance, but with different sizes?\n",
    "rvs6 = stats.norm.rvs(loc=5, scale=10, size=800, random_state=rng)\n",
    "stats.ttest_ind(rvs1, rvs6)"
   ]
  },
  {
   "cell_type": "code",
   "execution_count": 27,
   "id": "87234e38-c980-4e22-8961-ca6e78ec5288",
   "metadata": {},
   "outputs": [
    {
     "data": {
      "text/plain": [
       "Ttest_indResult(statistic=2.313171768292254, pvalue=0.020905055038402016)"
      ]
     },
     "execution_count": 27,
     "metadata": {},
     "output_type": "execute_result"
    }
   ],
   "source": [
    "# when equal_var is set to False on above example we see the results are still very similar to the above test\n",
    "stats.ttest_ind(rvs1, rvs6, equal_var=False)"
   ]
  },
  {
   "cell_type": "markdown",
   "id": "f302e204-b4f9-4979-8c35-951bcb595270",
   "metadata": {},
   "source": [
    "<br>\n",
    "The documentation also provides the below advice for a permutations test:  "
   ]
  },
  {
   "cell_type": "markdown",
   "id": "cfcac1a7-ff05-4a7d-84bf-a92e4f4d0e38",
   "metadata": {},
   "source": [
    "*When performing a permutation test, more permutations typically yields more accurate results.  \n",
    "Use a np.random.Generator to ensure reproducibility:*"
   ]
  },
  {
   "cell_type": "code",
   "execution_count": 28,
   "id": "0ad75e87-77d1-4c90-9a8d-49c074516507",
   "metadata": {},
   "outputs": [
    {
     "data": {
      "text/plain": [
       "Ttest_indResult(statistic=-4.100704642419457, pvalue=0.0001)"
      ]
     },
     "execution_count": 28,
     "metadata": {},
     "output_type": "execute_result"
    }
   ],
   "source": [
    "# testing with 10000 random permutations to estimate p-values\n",
    "stats.ttest_ind(rvs1, rvs5, permutations=10000,\n",
    "                random_state=rng)"
   ]
  },
  {
   "cell_type": "markdown",
   "id": "96bc3179-32e7-4a1b-8359-367c9c0b24ce",
   "metadata": {},
   "source": [
    "<br>"
   ]
  },
  {
   "cell_type": "markdown",
   "id": "deebd759-fc2d-4899-bddf-166ea4ee238a",
   "metadata": {},
   "source": [
    "The last example shows us how to deal with cases where we have two samples, and one has an extreme tail value."
   ]
  },
  {
   "cell_type": "markdown",
   "id": "0a1015d9-602d-4982-b1dd-666ecc6e14ea",
   "metadata": {},
   "source": [
    "*Take these two samples, one of which has an extreme tail.*"
   ]
  },
  {
   "cell_type": "code",
   "execution_count": 29,
   "id": "631db7fe-8bc9-4ddf-a36e-cdf235908376",
   "metadata": {},
   "outputs": [],
   "source": [
    "# note that a is a bigger sample, with extreme outlier/tail value 763.3\n",
    "a = (56, 128.6, 12, 123.8, 64.34, 78, 763.3)\n",
    "b = (1.1, 2.9, 4.2)"
   ]
  },
  {
   "cell_type": "markdown",
   "id": "de8bbcaf-cff5-449e-a243-80cef712c66d",
   "metadata": {},
   "source": [
    "*Use the trim keyword to perform a trimmed (Yuen) t-test. For example, using 20% trimming, trim=.2, the test will reduce the impact of one (np.floor(trim\\*len(a))) element from each tail of sample a. It will have no effect on sample b because np.floor(trim\\*len(b)) is 0.*"
   ]
  },
  {
   "cell_type": "code",
   "execution_count": 30,
   "id": "ecccd449-c00c-46d1-a94f-208911c035fc",
   "metadata": {},
   "outputs": [
    {
     "data": {
      "text/plain": [
       "Ttest_indResult(statistic=3.4463884028073513, pvalue=0.01369338726499547)"
      ]
     },
     "execution_count": 30,
     "metadata": {},
     "output_type": "execute_result"
    }
   ],
   "source": [
    "# number of trimmed elements from each tail is the floor of the trim times the number of elements\n",
    "stats.ttest_ind(a, b, trim=.2)"
   ]
  },
  {
   "cell_type": "markdown",
   "id": "85d8f47a-42f0-4e2c-b988-e7dbbbbbe26f",
   "metadata": {},
   "source": [
    "<br>"
   ]
  },
  {
   "cell_type": "markdown",
   "id": "e803a4f6-e5e2-49e5-a255-68ccfb6bc51e",
   "metadata": {},
   "source": [
    "Just for myself, lets see exactly what's happening when we use the trim parameter on sample a as the documentation is a little bit hard to follow."
   ]
  },
  {
   "cell_type": "code",
   "execution_count": 31,
   "id": "0ba8c014-c010-463f-b379-3ce9258c29fb",
   "metadata": {},
   "outputs": [
    {
     "data": {
      "text/plain": [
       "1.0"
      ]
     },
     "execution_count": 31,
     "metadata": {},
     "output_type": "execute_result"
    }
   ],
   "source": [
    "# taking the code from the Scipy documentatio with trim value 0.2 as above\n",
    "np.floor(0.2*len(a))"
   ]
  },
  {
   "cell_type": "markdown",
   "id": "87e26c2e-41ab-4b6d-92f9-7edb56ed458c",
   "metadata": {},
   "source": [
    "The result of 0.2 * 7 is 1.4, and the floor method rounds that value down to 1 which is why the effect of the one extreme element in sample a is reduced in the previous example."
   ]
  },
  {
   "cell_type": "markdown",
   "id": "8f63f0aa-d323-4b47-a53a-1ce09f82b991",
   "metadata": {},
   "source": [
    "<br>"
   ]
  },
  {
   "cell_type": "markdown",
   "id": "ff33d5c0-16cd-4443-b43e-72d4feaaae0d",
   "metadata": {},
   "source": [
    "## End\n",
    "***"
   ]
  }
 ],
 "metadata": {
  "kernelspec": {
   "display_name": "Python 3",
   "language": "python",
   "name": "python3"
  },
  "language_info": {
   "codemirror_mode": {
    "name": "ipython",
    "version": 3
   },
   "file_extension": ".py",
   "mimetype": "text/x-python",
   "name": "python",
   "nbconvert_exporter": "python",
   "pygments_lexer": "ipython3",
   "version": "3.8.8"
  }
 },
 "nbformat": 4,
 "nbformat_minor": 5
}
